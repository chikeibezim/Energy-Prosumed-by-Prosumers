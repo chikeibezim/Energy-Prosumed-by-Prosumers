{
 "cells": [
  {
   "cell_type": "markdown",
   "id": "7e9806bd",
   "metadata": {
    "papermill": {
     "duration": 0.015547,
     "end_time": "2024-01-10T08:30:17.438446",
     "exception": false,
     "start_time": "2024-01-10T08:30:17.422899",
     "status": "completed"
    },
    "tags": []
   },
   "source": [
    "## The issue of Energy Imbalance"
   ]
  },
  {
   "cell_type": "markdown",
   "id": "8beec3bc",
   "metadata": {
    "papermill": {
     "duration": 0.01517,
     "end_time": "2024-01-10T08:30:17.468105",
     "exception": false,
     "start_time": "2024-01-10T08:30:17.452935",
     "status": "completed"
    },
    "tags": []
   },
   "source": [
    "Energy imbalance costs refer to the costs incurred by electricity grid operators due to discrepancies between forecasted and actual electricity demand and generation. These imbalances can lead to challenges in maintaining the stability and reliability of the electrical grid. The energy imbalance costs can be categorized into two main types:\n",
    "\n",
    "1. Supply-Demand Imbalance:\n",
    "\n",
    "- Overgeneration: When there is more electricity generated than forecasted demand, the excess energy can lead to overgeneration. Grid operators may need to curtail or store this excess energy, resulting in additional costs.\n",
    "- Undergeneration: Conversely, when actual demand exceeds the forecasted generation, there is an undergeneration. In such cases, grid operators may need to quickly secure additional generation capacity, often from more expensive and less efficient sources.\n",
    "\n",
    "2. Variability and Uncertainty of Renewable Energy Sources:\n",
    "- Renewable Energy Integration: The increasing integration of renewable energy sources, such as wind and solar, introduces variability and uncertainty into the grid. The intermittent nature of these sources can lead to imbalances between supply and demand.\n",
    "\n",
    "- Forecasting Challenges: Forecasting renewable energy generation accurately is challenging due to weather-dependent factors. Inaccurate forecasts can result in grid imbalances, leading to higher operational costs.\n",
    "\n",
    "3. Market Imbalances:\n",
    "\n",
    "- Market Mechanisms: In electricity markets, imbalance costs may be incurred through market mechanisms designed to encourage market participants to balance their schedules more accurately.\n",
    "- Penalties and Settlements: Market participants that deviate from their scheduled energy deliveries may face penalties or settlements, contributing to the overall energy imbalance costs.\n",
    "\n",
    "Reducing energy imbalance costs is crucial for maintaining grid stability and minimizing economic and environmental impacts. Strategies to address energy imbalances include:\n",
    "\n",
    "- Improved Forecasting: Enhancing the accuracy of demand and renewable energy generation forecasts helps grid operators anticipate imbalances more effectively.\n",
    "\n",
    "- Flexibility and Resilience: Developing a more flexible and resilient grid infrastructure allows for better integration of variable renewable energy sources and facilitates quick adjustments to imbalances.\n",
    "\n",
    "- Advanced Energy Storage: Implementing energy storage solutions, such as batteries, enables the storage of excess energy during periods of overgeneration and the release of stored energy during periods of undergeneration.\n",
    "\n",
    "- Demand Response Programs: Encouraging demand response programs, where consumers adjust their electricity consumption based on grid conditions, helps in balancing supply and demand more effectively.\n",
    "\n",
    "Efforts to mitigate energy imbalance costs contribute to the overall efficiency, reliability, and sustainability of the electricity grid, aligning with the transition to a more renewable and resilient energy system."
   ]
  },
  {
   "cell_type": "markdown",
   "id": "f7b1ee5e",
   "metadata": {
    "papermill": {
     "duration": 0.013101,
     "end_time": "2024-01-10T08:30:17.495562",
     "exception": false,
     "start_time": "2024-01-10T08:30:17.482461",
     "status": "completed"
    },
    "tags": []
   },
   "source": [
    "### Predicting Energy Prosumed to reduce this imbalance"
   ]
  },
  {
   "cell_type": "code",
   "execution_count": 1,
   "id": "6b6ce89d",
   "metadata": {
    "_cell_guid": "b1076dfc-b9ad-4769-8c92-a6c4dae69d19",
    "_uuid": "8f2839f25d086af736a60e9eeb907d3b93b6e0e5",
    "execution": {
     "iopub.execute_input": "2024-01-10T08:30:17.528216Z",
     "iopub.status.busy": "2024-01-10T08:30:17.527746Z",
     "iopub.status.idle": "2024-01-10T08:30:18.096080Z",
     "shell.execute_reply": "2024-01-10T08:30:18.094844Z"
    },
    "papermill": {
     "duration": 0.588933,
     "end_time": "2024-01-10T08:30:18.099065",
     "exception": false,
     "start_time": "2024-01-10T08:30:17.510132",
     "status": "completed"
    },
    "tags": []
   },
   "outputs": [
    {
     "name": "stdout",
     "output_type": "stream",
     "text": [
      "/kaggle/input/predict-energy-behavior-of-prosumers/client.csv\n",
      "/kaggle/input/predict-energy-behavior-of-prosumers/gas_prices.csv\n",
      "/kaggle/input/predict-energy-behavior-of-prosumers/electricity_prices.csv\n",
      "/kaggle/input/predict-energy-behavior-of-prosumers/weather_station_to_county_mapping.csv\n",
      "/kaggle/input/predict-energy-behavior-of-prosumers/public_timeseries_testing_util.py\n",
      "/kaggle/input/predict-energy-behavior-of-prosumers/historical_weather.csv\n",
      "/kaggle/input/predict-energy-behavior-of-prosumers/county_id_to_name_map.json\n",
      "/kaggle/input/predict-energy-behavior-of-prosumers/train.csv\n",
      "/kaggle/input/predict-energy-behavior-of-prosumers/forecast_weather.csv\n",
      "/kaggle/input/predict-energy-behavior-of-prosumers/example_test_files/sample_submission.csv\n",
      "/kaggle/input/predict-energy-behavior-of-prosumers/example_test_files/client.csv\n",
      "/kaggle/input/predict-energy-behavior-of-prosumers/example_test_files/gas_prices.csv\n",
      "/kaggle/input/predict-energy-behavior-of-prosumers/example_test_files/electricity_prices.csv\n",
      "/kaggle/input/predict-energy-behavior-of-prosumers/example_test_files/historical_weather.csv\n",
      "/kaggle/input/predict-energy-behavior-of-prosumers/example_test_files/revealed_targets.csv\n",
      "/kaggle/input/predict-energy-behavior-of-prosumers/example_test_files/test.csv\n",
      "/kaggle/input/predict-energy-behavior-of-prosumers/example_test_files/forecast_weather.csv\n",
      "/kaggle/input/predict-energy-behavior-of-prosumers/enefit/competition.cpython-310-x86_64-linux-gnu.so\n",
      "/kaggle/input/predict-energy-behavior-of-prosumers/enefit/__init__.py\n"
     ]
    }
   ],
   "source": [
    "# This Python 3 environment comes with many helpful analytics libraries installed\n",
    "# It is defined by the kaggle/python Docker image: https://github.com/kaggle/docker-python\n",
    "# For example, here's several helpful packages to load\n",
    "\n",
    "import numpy as np # linear algebra\n",
    "import pandas as pd # data processing, CSV file I/O (e.g. pd.read_csv)\n",
    "\n",
    "# Input data files are available in the read-only \"../input/\" directory\n",
    "# For example, running this (by clicking run or pressing Shift+Enter) will list all files under the input directory\n",
    "\n",
    "import os\n",
    "for dirname, _, filenames in os.walk('/kaggle/input'):\n",
    "    for filename in filenames:\n",
    "        print(os.path.join(dirname, filename))\n",
    "\n",
    "# You can write up to 20GB to the current directory (/kaggle/working/) that gets preserved as output when you create a version using \"Save & Run All\" \n",
    "# You can also write temporary files to /kaggle/temp/, but they won't be saved outside of the current session"
   ]
  },
  {
   "cell_type": "code",
   "execution_count": 2,
   "id": "bda364ce",
   "metadata": {
    "execution": {
     "iopub.execute_input": "2024-01-10T08:30:18.132560Z",
     "iopub.status.busy": "2024-01-10T08:30:18.131870Z",
     "iopub.status.idle": "2024-01-10T08:30:18.202966Z",
     "shell.execute_reply": "2024-01-10T08:30:18.201247Z"
    },
    "papermill": {
     "duration": 0.09115,
     "end_time": "2024-01-10T08:30:18.206246",
     "exception": false,
     "start_time": "2024-01-10T08:30:18.115096",
     "status": "completed"
    },
    "tags": []
   },
   "outputs": [
    {
     "data": {
      "text/html": [
       "<div>\n",
       "<style scoped>\n",
       "    .dataframe tbody tr th:only-of-type {\n",
       "        vertical-align: middle;\n",
       "    }\n",
       "\n",
       "    .dataframe tbody tr th {\n",
       "        vertical-align: top;\n",
       "    }\n",
       "\n",
       "    .dataframe thead th {\n",
       "        text-align: right;\n",
       "    }\n",
       "</style>\n",
       "<table border=\"1\" class=\"dataframe\">\n",
       "  <thead>\n",
       "    <tr style=\"text-align: right;\">\n",
       "      <th></th>\n",
       "      <th>county</th>\n",
       "      <th>is_business</th>\n",
       "      <th>product_type</th>\n",
       "      <th>is_consumption</th>\n",
       "      <th>prediction_datetime</th>\n",
       "      <th>data_block_id</th>\n",
       "      <th>row_id</th>\n",
       "      <th>prediction_unit_id</th>\n",
       "      <th>currently_scored</th>\n",
       "    </tr>\n",
       "  </thead>\n",
       "  <tbody>\n",
       "    <tr>\n",
       "      <th>0</th>\n",
       "      <td>0</td>\n",
       "      <td>0</td>\n",
       "      <td>1</td>\n",
       "      <td>0</td>\n",
       "      <td>2023-05-28 00:00:00</td>\n",
       "      <td>634</td>\n",
       "      <td>2005872</td>\n",
       "      <td>0</td>\n",
       "      <td>False</td>\n",
       "    </tr>\n",
       "    <tr>\n",
       "      <th>1</th>\n",
       "      <td>0</td>\n",
       "      <td>0</td>\n",
       "      <td>1</td>\n",
       "      <td>1</td>\n",
       "      <td>2023-05-28 00:00:00</td>\n",
       "      <td>634</td>\n",
       "      <td>2005873</td>\n",
       "      <td>0</td>\n",
       "      <td>False</td>\n",
       "    </tr>\n",
       "    <tr>\n",
       "      <th>2</th>\n",
       "      <td>0</td>\n",
       "      <td>0</td>\n",
       "      <td>2</td>\n",
       "      <td>0</td>\n",
       "      <td>2023-05-28 00:00:00</td>\n",
       "      <td>634</td>\n",
       "      <td>2005874</td>\n",
       "      <td>1</td>\n",
       "      <td>False</td>\n",
       "    </tr>\n",
       "    <tr>\n",
       "      <th>3</th>\n",
       "      <td>0</td>\n",
       "      <td>0</td>\n",
       "      <td>2</td>\n",
       "      <td>1</td>\n",
       "      <td>2023-05-28 00:00:00</td>\n",
       "      <td>634</td>\n",
       "      <td>2005875</td>\n",
       "      <td>1</td>\n",
       "      <td>False</td>\n",
       "    </tr>\n",
       "    <tr>\n",
       "      <th>4</th>\n",
       "      <td>0</td>\n",
       "      <td>0</td>\n",
       "      <td>3</td>\n",
       "      <td>0</td>\n",
       "      <td>2023-05-28 00:00:00</td>\n",
       "      <td>634</td>\n",
       "      <td>2005876</td>\n",
       "      <td>2</td>\n",
       "      <td>False</td>\n",
       "    </tr>\n",
       "  </tbody>\n",
       "</table>\n",
       "</div>"
      ],
      "text/plain": [
       "   county  is_business  product_type  is_consumption  prediction_datetime  \\\n",
       "0       0            0             1               0  2023-05-28 00:00:00   \n",
       "1       0            0             1               1  2023-05-28 00:00:00   \n",
       "2       0            0             2               0  2023-05-28 00:00:00   \n",
       "3       0            0             2               1  2023-05-28 00:00:00   \n",
       "4       0            0             3               0  2023-05-28 00:00:00   \n",
       "\n",
       "   data_block_id   row_id  prediction_unit_id  currently_scored  \n",
       "0            634  2005872                   0             False  \n",
       "1            634  2005873                   0             False  \n",
       "2            634  2005874                   1             False  \n",
       "3            634  2005875                   1             False  \n",
       "4            634  2005876                   2             False  "
      ]
     },
     "execution_count": 2,
     "metadata": {},
     "output_type": "execute_result"
    }
   ],
   "source": [
    "test_csv = pd.read_csv(\"/kaggle/input/predict-energy-behavior-of-prosumers/example_test_files/test.csv\")\n",
    "test_csv.head()"
   ]
  },
  {
   "cell_type": "code",
   "execution_count": 3,
   "id": "2f95a48f",
   "metadata": {
    "execution": {
     "iopub.execute_input": "2024-01-10T08:30:18.237997Z",
     "iopub.status.busy": "2024-01-10T08:30:18.237496Z",
     "iopub.status.idle": "2024-01-10T08:30:52.477164Z",
     "shell.execute_reply": "2024-01-10T08:30:52.475275Z"
    },
    "papermill": {
     "duration": 34.260702,
     "end_time": "2024-01-10T08:30:52.481017",
     "exception": false,
     "start_time": "2024-01-10T08:30:18.220315",
     "status": "completed"
    },
    "tags": []
   },
   "outputs": [],
   "source": [
    "train_df = pd.read_csv(\"/kaggle/input/predict-energy-behavior-of-prosumers/train.csv\", parse_dates=[\"datetime\"])\n",
    "gasprices_df = pd.read_csv(\"/kaggle/input/predict-energy-behavior-of-prosumers/gas_prices.csv\", parse_dates=[\"forecast_date\"])\n",
    "electricity_prices_df = pd.read_csv(\"/kaggle/input/predict-energy-behavior-of-prosumers/electricity_prices.csv\", parse_dates=[\"forecast_date\", \"origin_date\"])\n",
    "wst_df = pd.read_csv(\"/kaggle/input/predict-energy-behavior-of-prosumers/weather_station_to_county_mapping.csv\")\n",
    "historical_weather_df = pd.read_csv(\"/kaggle/input/predict-energy-behavior-of-prosumers/historical_weather.csv\", parse_dates=[\"datetime\"])\n",
    "forecast_weather_df = pd.read_csv(\"/kaggle/input/predict-energy-behavior-of-prosumers/forecast_weather.csv\", parse_dates=[\"origin_datetime\",\"forecast_datetime\"])"
   ]
  },
  {
   "cell_type": "markdown",
   "id": "e6a7decf",
   "metadata": {
    "papermill": {
     "duration": 0.013836,
     "end_time": "2024-01-10T08:30:52.510094",
     "exception": false,
     "start_time": "2024-01-10T08:30:52.496258",
     "status": "completed"
    },
    "tags": []
   },
   "source": [
    "## Data Inspection"
   ]
  },
  {
   "cell_type": "code",
   "execution_count": 4,
   "id": "9a93aae0",
   "metadata": {
    "execution": {
     "iopub.execute_input": "2024-01-10T08:30:52.541581Z",
     "iopub.status.busy": "2024-01-10T08:30:52.541132Z",
     "iopub.status.idle": "2024-01-10T08:30:52.561471Z",
     "shell.execute_reply": "2024-01-10T08:30:52.560107Z"
    },
    "papermill": {
     "duration": 0.039048,
     "end_time": "2024-01-10T08:30:52.564250",
     "exception": false,
     "start_time": "2024-01-10T08:30:52.525202",
     "status": "completed"
    },
    "tags": []
   },
   "outputs": [
    {
     "data": {
      "text/html": [
       "<div>\n",
       "<style scoped>\n",
       "    .dataframe tbody tr th:only-of-type {\n",
       "        vertical-align: middle;\n",
       "    }\n",
       "\n",
       "    .dataframe tbody tr th {\n",
       "        vertical-align: top;\n",
       "    }\n",
       "\n",
       "    .dataframe thead th {\n",
       "        text-align: right;\n",
       "    }\n",
       "</style>\n",
       "<table border=\"1\" class=\"dataframe\">\n",
       "  <thead>\n",
       "    <tr style=\"text-align: right;\">\n",
       "      <th></th>\n",
       "      <th>county</th>\n",
       "      <th>is_business</th>\n",
       "      <th>product_type</th>\n",
       "      <th>target</th>\n",
       "      <th>is_consumption</th>\n",
       "      <th>datetime</th>\n",
       "      <th>data_block_id</th>\n",
       "      <th>row_id</th>\n",
       "      <th>prediction_unit_id</th>\n",
       "    </tr>\n",
       "  </thead>\n",
       "  <tbody>\n",
       "    <tr>\n",
       "      <th>0</th>\n",
       "      <td>0</td>\n",
       "      <td>0</td>\n",
       "      <td>1</td>\n",
       "      <td>0.713</td>\n",
       "      <td>0</td>\n",
       "      <td>2021-09-01</td>\n",
       "      <td>0</td>\n",
       "      <td>0</td>\n",
       "      <td>0</td>\n",
       "    </tr>\n",
       "    <tr>\n",
       "      <th>1</th>\n",
       "      <td>0</td>\n",
       "      <td>0</td>\n",
       "      <td>1</td>\n",
       "      <td>96.590</td>\n",
       "      <td>1</td>\n",
       "      <td>2021-09-01</td>\n",
       "      <td>0</td>\n",
       "      <td>1</td>\n",
       "      <td>0</td>\n",
       "    </tr>\n",
       "    <tr>\n",
       "      <th>2</th>\n",
       "      <td>0</td>\n",
       "      <td>0</td>\n",
       "      <td>2</td>\n",
       "      <td>0.000</td>\n",
       "      <td>0</td>\n",
       "      <td>2021-09-01</td>\n",
       "      <td>0</td>\n",
       "      <td>2</td>\n",
       "      <td>1</td>\n",
       "    </tr>\n",
       "    <tr>\n",
       "      <th>3</th>\n",
       "      <td>0</td>\n",
       "      <td>0</td>\n",
       "      <td>2</td>\n",
       "      <td>17.314</td>\n",
       "      <td>1</td>\n",
       "      <td>2021-09-01</td>\n",
       "      <td>0</td>\n",
       "      <td>3</td>\n",
       "      <td>1</td>\n",
       "    </tr>\n",
       "    <tr>\n",
       "      <th>4</th>\n",
       "      <td>0</td>\n",
       "      <td>0</td>\n",
       "      <td>3</td>\n",
       "      <td>2.904</td>\n",
       "      <td>0</td>\n",
       "      <td>2021-09-01</td>\n",
       "      <td>0</td>\n",
       "      <td>4</td>\n",
       "      <td>2</td>\n",
       "    </tr>\n",
       "  </tbody>\n",
       "</table>\n",
       "</div>"
      ],
      "text/plain": [
       "   county  is_business  product_type  target  is_consumption   datetime  \\\n",
       "0       0            0             1   0.713               0 2021-09-01   \n",
       "1       0            0             1  96.590               1 2021-09-01   \n",
       "2       0            0             2   0.000               0 2021-09-01   \n",
       "3       0            0             2  17.314               1 2021-09-01   \n",
       "4       0            0             3   2.904               0 2021-09-01   \n",
       "\n",
       "   data_block_id  row_id  prediction_unit_id  \n",
       "0              0       0                   0  \n",
       "1              0       1                   0  \n",
       "2              0       2                   1  \n",
       "3              0       3                   1  \n",
       "4              0       4                   2  "
      ]
     },
     "execution_count": 4,
     "metadata": {},
     "output_type": "execute_result"
    }
   ],
   "source": [
    "train_df.head()"
   ]
  },
  {
   "cell_type": "code",
   "execution_count": 5,
   "id": "563370ec",
   "metadata": {
    "execution": {
     "iopub.execute_input": "2024-01-10T08:30:52.595071Z",
     "iopub.status.busy": "2024-01-10T08:30:52.594046Z",
     "iopub.status.idle": "2024-01-10T08:30:52.609865Z",
     "shell.execute_reply": "2024-01-10T08:30:52.608396Z"
    },
    "papermill": {
     "duration": 0.034544,
     "end_time": "2024-01-10T08:30:52.612663",
     "exception": false,
     "start_time": "2024-01-10T08:30:52.578119",
     "status": "completed"
    },
    "tags": []
   },
   "outputs": [
    {
     "data": {
      "text/html": [
       "<div>\n",
       "<style scoped>\n",
       "    .dataframe tbody tr th:only-of-type {\n",
       "        vertical-align: middle;\n",
       "    }\n",
       "\n",
       "    .dataframe tbody tr th {\n",
       "        vertical-align: top;\n",
       "    }\n",
       "\n",
       "    .dataframe thead th {\n",
       "        text-align: right;\n",
       "    }\n",
       "</style>\n",
       "<table border=\"1\" class=\"dataframe\">\n",
       "  <thead>\n",
       "    <tr style=\"text-align: right;\">\n",
       "      <th></th>\n",
       "      <th>forecast_date</th>\n",
       "      <th>lowest_price_per_mwh</th>\n",
       "      <th>highest_price_per_mwh</th>\n",
       "      <th>origin_date</th>\n",
       "      <th>data_block_id</th>\n",
       "    </tr>\n",
       "  </thead>\n",
       "  <tbody>\n",
       "    <tr>\n",
       "      <th>0</th>\n",
       "      <td>2021-09-01</td>\n",
       "      <td>45.23</td>\n",
       "      <td>46.32</td>\n",
       "      <td>2021-08-31</td>\n",
       "      <td>1</td>\n",
       "    </tr>\n",
       "    <tr>\n",
       "      <th>1</th>\n",
       "      <td>2021-09-02</td>\n",
       "      <td>45.62</td>\n",
       "      <td>46.29</td>\n",
       "      <td>2021-09-01</td>\n",
       "      <td>2</td>\n",
       "    </tr>\n",
       "    <tr>\n",
       "      <th>2</th>\n",
       "      <td>2021-09-03</td>\n",
       "      <td>45.85</td>\n",
       "      <td>46.40</td>\n",
       "      <td>2021-09-02</td>\n",
       "      <td>3</td>\n",
       "    </tr>\n",
       "    <tr>\n",
       "      <th>3</th>\n",
       "      <td>2021-09-04</td>\n",
       "      <td>46.30</td>\n",
       "      <td>46.80</td>\n",
       "      <td>2021-09-03</td>\n",
       "      <td>4</td>\n",
       "    </tr>\n",
       "    <tr>\n",
       "      <th>4</th>\n",
       "      <td>2021-09-05</td>\n",
       "      <td>46.30</td>\n",
       "      <td>46.58</td>\n",
       "      <td>2021-09-04</td>\n",
       "      <td>5</td>\n",
       "    </tr>\n",
       "  </tbody>\n",
       "</table>\n",
       "</div>"
      ],
      "text/plain": [
       "  forecast_date  lowest_price_per_mwh  highest_price_per_mwh origin_date  \\\n",
       "0    2021-09-01                 45.23                  46.32  2021-08-31   \n",
       "1    2021-09-02                 45.62                  46.29  2021-09-01   \n",
       "2    2021-09-03                 45.85                  46.40  2021-09-02   \n",
       "3    2021-09-04                 46.30                  46.80  2021-09-03   \n",
       "4    2021-09-05                 46.30                  46.58  2021-09-04   \n",
       "\n",
       "   data_block_id  \n",
       "0              1  \n",
       "1              2  \n",
       "2              3  \n",
       "3              4  \n",
       "4              5  "
      ]
     },
     "execution_count": 5,
     "metadata": {},
     "output_type": "execute_result"
    }
   ],
   "source": [
    "gasprices_df.head()"
   ]
  },
  {
   "cell_type": "code",
   "execution_count": 6,
   "id": "3f462d32",
   "metadata": {
    "execution": {
     "iopub.execute_input": "2024-01-10T08:30:52.647604Z",
     "iopub.status.busy": "2024-01-10T08:30:52.646341Z",
     "iopub.status.idle": "2024-01-10T08:30:52.662742Z",
     "shell.execute_reply": "2024-01-10T08:30:52.661356Z"
    },
    "papermill": {
     "duration": 0.037076,
     "end_time": "2024-01-10T08:30:52.665779",
     "exception": false,
     "start_time": "2024-01-10T08:30:52.628703",
     "status": "completed"
    },
    "tags": []
   },
   "outputs": [
    {
     "data": {
      "text/html": [
       "<div>\n",
       "<style scoped>\n",
       "    .dataframe tbody tr th:only-of-type {\n",
       "        vertical-align: middle;\n",
       "    }\n",
       "\n",
       "    .dataframe tbody tr th {\n",
       "        vertical-align: top;\n",
       "    }\n",
       "\n",
       "    .dataframe thead th {\n",
       "        text-align: right;\n",
       "    }\n",
       "</style>\n",
       "<table border=\"1\" class=\"dataframe\">\n",
       "  <thead>\n",
       "    <tr style=\"text-align: right;\">\n",
       "      <th></th>\n",
       "      <th>forecast_date</th>\n",
       "      <th>euros_per_mwh</th>\n",
       "      <th>origin_date</th>\n",
       "      <th>data_block_id</th>\n",
       "    </tr>\n",
       "  </thead>\n",
       "  <tbody>\n",
       "    <tr>\n",
       "      <th>0</th>\n",
       "      <td>2021-09-01 00:00:00</td>\n",
       "      <td>92.51</td>\n",
       "      <td>2021-08-31 00:00:00</td>\n",
       "      <td>1</td>\n",
       "    </tr>\n",
       "    <tr>\n",
       "      <th>1</th>\n",
       "      <td>2021-09-01 01:00:00</td>\n",
       "      <td>88.90</td>\n",
       "      <td>2021-08-31 01:00:00</td>\n",
       "      <td>1</td>\n",
       "    </tr>\n",
       "    <tr>\n",
       "      <th>2</th>\n",
       "      <td>2021-09-01 02:00:00</td>\n",
       "      <td>87.35</td>\n",
       "      <td>2021-08-31 02:00:00</td>\n",
       "      <td>1</td>\n",
       "    </tr>\n",
       "    <tr>\n",
       "      <th>3</th>\n",
       "      <td>2021-09-01 03:00:00</td>\n",
       "      <td>86.88</td>\n",
       "      <td>2021-08-31 03:00:00</td>\n",
       "      <td>1</td>\n",
       "    </tr>\n",
       "    <tr>\n",
       "      <th>4</th>\n",
       "      <td>2021-09-01 04:00:00</td>\n",
       "      <td>88.43</td>\n",
       "      <td>2021-08-31 04:00:00</td>\n",
       "      <td>1</td>\n",
       "    </tr>\n",
       "  </tbody>\n",
       "</table>\n",
       "</div>"
      ],
      "text/plain": [
       "        forecast_date  euros_per_mwh         origin_date  data_block_id\n",
       "0 2021-09-01 00:00:00          92.51 2021-08-31 00:00:00              1\n",
       "1 2021-09-01 01:00:00          88.90 2021-08-31 01:00:00              1\n",
       "2 2021-09-01 02:00:00          87.35 2021-08-31 02:00:00              1\n",
       "3 2021-09-01 03:00:00          86.88 2021-08-31 03:00:00              1\n",
       "4 2021-09-01 04:00:00          88.43 2021-08-31 04:00:00              1"
      ]
     },
     "execution_count": 6,
     "metadata": {},
     "output_type": "execute_result"
    }
   ],
   "source": [
    "electricity_prices_df.head()"
   ]
  },
  {
   "cell_type": "code",
   "execution_count": 7,
   "id": "c1621048",
   "metadata": {
    "execution": {
     "iopub.execute_input": "2024-01-10T08:30:52.708009Z",
     "iopub.status.busy": "2024-01-10T08:30:52.706745Z",
     "iopub.status.idle": "2024-01-10T08:30:52.722521Z",
     "shell.execute_reply": "2024-01-10T08:30:52.721302Z"
    },
    "papermill": {
     "duration": 0.041011,
     "end_time": "2024-01-10T08:30:52.725272",
     "exception": false,
     "start_time": "2024-01-10T08:30:52.684261",
     "status": "completed"
    },
    "tags": []
   },
   "outputs": [
    {
     "data": {
      "text/html": [
       "<div>\n",
       "<style scoped>\n",
       "    .dataframe tbody tr th:only-of-type {\n",
       "        vertical-align: middle;\n",
       "    }\n",
       "\n",
       "    .dataframe tbody tr th {\n",
       "        vertical-align: top;\n",
       "    }\n",
       "\n",
       "    .dataframe thead th {\n",
       "        text-align: right;\n",
       "    }\n",
       "</style>\n",
       "<table border=\"1\" class=\"dataframe\">\n",
       "  <thead>\n",
       "    <tr style=\"text-align: right;\">\n",
       "      <th></th>\n",
       "      <th>county_name</th>\n",
       "      <th>longitude</th>\n",
       "      <th>latitude</th>\n",
       "      <th>county</th>\n",
       "    </tr>\n",
       "  </thead>\n",
       "  <tbody>\n",
       "    <tr>\n",
       "      <th>0</th>\n",
       "      <td>NaN</td>\n",
       "      <td>21.7</td>\n",
       "      <td>57.6</td>\n",
       "      <td>NaN</td>\n",
       "    </tr>\n",
       "    <tr>\n",
       "      <th>1</th>\n",
       "      <td>NaN</td>\n",
       "      <td>21.7</td>\n",
       "      <td>57.9</td>\n",
       "      <td>NaN</td>\n",
       "    </tr>\n",
       "    <tr>\n",
       "      <th>2</th>\n",
       "      <td>NaN</td>\n",
       "      <td>21.7</td>\n",
       "      <td>58.2</td>\n",
       "      <td>NaN</td>\n",
       "    </tr>\n",
       "    <tr>\n",
       "      <th>3</th>\n",
       "      <td>NaN</td>\n",
       "      <td>21.7</td>\n",
       "      <td>58.5</td>\n",
       "      <td>NaN</td>\n",
       "    </tr>\n",
       "    <tr>\n",
       "      <th>4</th>\n",
       "      <td>NaN</td>\n",
       "      <td>21.7</td>\n",
       "      <td>58.8</td>\n",
       "      <td>NaN</td>\n",
       "    </tr>\n",
       "  </tbody>\n",
       "</table>\n",
       "</div>"
      ],
      "text/plain": [
       "  county_name  longitude  latitude  county\n",
       "0         NaN       21.7      57.6     NaN\n",
       "1         NaN       21.7      57.9     NaN\n",
       "2         NaN       21.7      58.2     NaN\n",
       "3         NaN       21.7      58.5     NaN\n",
       "4         NaN       21.7      58.8     NaN"
      ]
     },
     "execution_count": 7,
     "metadata": {},
     "output_type": "execute_result"
    }
   ],
   "source": [
    "wst_df.head()"
   ]
  },
  {
   "cell_type": "code",
   "execution_count": 8,
   "id": "9fbab3d9",
   "metadata": {
    "execution": {
     "iopub.execute_input": "2024-01-10T08:30:52.757411Z",
     "iopub.status.busy": "2024-01-10T08:30:52.756936Z",
     "iopub.status.idle": "2024-01-10T08:30:52.788812Z",
     "shell.execute_reply": "2024-01-10T08:30:52.787373Z"
    },
    "papermill": {
     "duration": 0.050761,
     "end_time": "2024-01-10T08:30:52.791605",
     "exception": false,
     "start_time": "2024-01-10T08:30:52.740844",
     "status": "completed"
    },
    "tags": []
   },
   "outputs": [
    {
     "data": {
      "text/html": [
       "<div>\n",
       "<style scoped>\n",
       "    .dataframe tbody tr th:only-of-type {\n",
       "        vertical-align: middle;\n",
       "    }\n",
       "\n",
       "    .dataframe tbody tr th {\n",
       "        vertical-align: top;\n",
       "    }\n",
       "\n",
       "    .dataframe thead th {\n",
       "        text-align: right;\n",
       "    }\n",
       "</style>\n",
       "<table border=\"1\" class=\"dataframe\">\n",
       "  <thead>\n",
       "    <tr style=\"text-align: right;\">\n",
       "      <th></th>\n",
       "      <th>datetime</th>\n",
       "      <th>temperature</th>\n",
       "      <th>dewpoint</th>\n",
       "      <th>rain</th>\n",
       "      <th>snowfall</th>\n",
       "      <th>surface_pressure</th>\n",
       "      <th>cloudcover_total</th>\n",
       "      <th>cloudcover_low</th>\n",
       "      <th>cloudcover_mid</th>\n",
       "      <th>cloudcover_high</th>\n",
       "      <th>windspeed_10m</th>\n",
       "      <th>winddirection_10m</th>\n",
       "      <th>shortwave_radiation</th>\n",
       "      <th>direct_solar_radiation</th>\n",
       "      <th>diffuse_radiation</th>\n",
       "      <th>latitude</th>\n",
       "      <th>longitude</th>\n",
       "      <th>data_block_id</th>\n",
       "    </tr>\n",
       "  </thead>\n",
       "  <tbody>\n",
       "    <tr>\n",
       "      <th>0</th>\n",
       "      <td>2021-09-01</td>\n",
       "      <td>14.2</td>\n",
       "      <td>11.6</td>\n",
       "      <td>0.0</td>\n",
       "      <td>0.0</td>\n",
       "      <td>1015.9</td>\n",
       "      <td>31</td>\n",
       "      <td>31</td>\n",
       "      <td>0</td>\n",
       "      <td>11</td>\n",
       "      <td>7.083333</td>\n",
       "      <td>8</td>\n",
       "      <td>0.0</td>\n",
       "      <td>0.0</td>\n",
       "      <td>0.0</td>\n",
       "      <td>57.6</td>\n",
       "      <td>21.7</td>\n",
       "      <td>1.0</td>\n",
       "    </tr>\n",
       "    <tr>\n",
       "      <th>1</th>\n",
       "      <td>2021-09-01</td>\n",
       "      <td>13.9</td>\n",
       "      <td>11.5</td>\n",
       "      <td>0.0</td>\n",
       "      <td>0.0</td>\n",
       "      <td>1010.7</td>\n",
       "      <td>33</td>\n",
       "      <td>37</td>\n",
       "      <td>0</td>\n",
       "      <td>0</td>\n",
       "      <td>5.111111</td>\n",
       "      <td>359</td>\n",
       "      <td>0.0</td>\n",
       "      <td>0.0</td>\n",
       "      <td>0.0</td>\n",
       "      <td>57.6</td>\n",
       "      <td>22.2</td>\n",
       "      <td>1.0</td>\n",
       "    </tr>\n",
       "    <tr>\n",
       "      <th>2</th>\n",
       "      <td>2021-09-01</td>\n",
       "      <td>14.0</td>\n",
       "      <td>12.5</td>\n",
       "      <td>0.0</td>\n",
       "      <td>0.0</td>\n",
       "      <td>1015.0</td>\n",
       "      <td>31</td>\n",
       "      <td>34</td>\n",
       "      <td>0</td>\n",
       "      <td>0</td>\n",
       "      <td>6.333333</td>\n",
       "      <td>355</td>\n",
       "      <td>0.0</td>\n",
       "      <td>0.0</td>\n",
       "      <td>0.0</td>\n",
       "      <td>57.6</td>\n",
       "      <td>22.7</td>\n",
       "      <td>1.0</td>\n",
       "    </tr>\n",
       "    <tr>\n",
       "      <th>3</th>\n",
       "      <td>2021-09-01</td>\n",
       "      <td>14.6</td>\n",
       "      <td>11.5</td>\n",
       "      <td>0.0</td>\n",
       "      <td>0.0</td>\n",
       "      <td>1017.3</td>\n",
       "      <td>0</td>\n",
       "      <td>0</td>\n",
       "      <td>0</td>\n",
       "      <td>0</td>\n",
       "      <td>8.083333</td>\n",
       "      <td>297</td>\n",
       "      <td>358.0</td>\n",
       "      <td>277.0</td>\n",
       "      <td>81.0</td>\n",
       "      <td>57.6</td>\n",
       "      <td>23.2</td>\n",
       "      <td>1.0</td>\n",
       "    </tr>\n",
       "    <tr>\n",
       "      <th>4</th>\n",
       "      <td>2021-09-01</td>\n",
       "      <td>15.7</td>\n",
       "      <td>12.9</td>\n",
       "      <td>0.0</td>\n",
       "      <td>0.0</td>\n",
       "      <td>1014.0</td>\n",
       "      <td>22</td>\n",
       "      <td>25</td>\n",
       "      <td>0</td>\n",
       "      <td>0</td>\n",
       "      <td>8.416667</td>\n",
       "      <td>5</td>\n",
       "      <td>0.0</td>\n",
       "      <td>0.0</td>\n",
       "      <td>0.0</td>\n",
       "      <td>57.6</td>\n",
       "      <td>23.7</td>\n",
       "      <td>1.0</td>\n",
       "    </tr>\n",
       "  </tbody>\n",
       "</table>\n",
       "</div>"
      ],
      "text/plain": [
       "    datetime  temperature  dewpoint  rain  snowfall  surface_pressure  \\\n",
       "0 2021-09-01         14.2      11.6   0.0       0.0            1015.9   \n",
       "1 2021-09-01         13.9      11.5   0.0       0.0            1010.7   \n",
       "2 2021-09-01         14.0      12.5   0.0       0.0            1015.0   \n",
       "3 2021-09-01         14.6      11.5   0.0       0.0            1017.3   \n",
       "4 2021-09-01         15.7      12.9   0.0       0.0            1014.0   \n",
       "\n",
       "   cloudcover_total  cloudcover_low  cloudcover_mid  cloudcover_high  \\\n",
       "0                31              31               0               11   \n",
       "1                33              37               0                0   \n",
       "2                31              34               0                0   \n",
       "3                 0               0               0                0   \n",
       "4                22              25               0                0   \n",
       "\n",
       "   windspeed_10m  winddirection_10m  shortwave_radiation  \\\n",
       "0       7.083333                  8                  0.0   \n",
       "1       5.111111                359                  0.0   \n",
       "2       6.333333                355                  0.0   \n",
       "3       8.083333                297                358.0   \n",
       "4       8.416667                  5                  0.0   \n",
       "\n",
       "   direct_solar_radiation  diffuse_radiation  latitude  longitude  \\\n",
       "0                     0.0                0.0      57.6       21.7   \n",
       "1                     0.0                0.0      57.6       22.2   \n",
       "2                     0.0                0.0      57.6       22.7   \n",
       "3                   277.0               81.0      57.6       23.2   \n",
       "4                     0.0                0.0      57.6       23.7   \n",
       "\n",
       "   data_block_id  \n",
       "0            1.0  \n",
       "1            1.0  \n",
       "2            1.0  \n",
       "3            1.0  \n",
       "4            1.0  "
      ]
     },
     "execution_count": 8,
     "metadata": {},
     "output_type": "execute_result"
    }
   ],
   "source": [
    "historical_weather_df.head()"
   ]
  },
  {
   "cell_type": "code",
   "execution_count": 9,
   "id": "bd2a223d",
   "metadata": {
    "execution": {
     "iopub.execute_input": "2024-01-10T08:30:52.824675Z",
     "iopub.status.busy": "2024-01-10T08:30:52.823463Z",
     "iopub.status.idle": "2024-01-10T08:30:52.851941Z",
     "shell.execute_reply": "2024-01-10T08:30:52.850475Z"
    },
    "papermill": {
     "duration": 0.048155,
     "end_time": "2024-01-10T08:30:52.854506",
     "exception": false,
     "start_time": "2024-01-10T08:30:52.806351",
     "status": "completed"
    },
    "tags": []
   },
   "outputs": [
    {
     "data": {
      "text/html": [
       "<div>\n",
       "<style scoped>\n",
       "    .dataframe tbody tr th:only-of-type {\n",
       "        vertical-align: middle;\n",
       "    }\n",
       "\n",
       "    .dataframe tbody tr th {\n",
       "        vertical-align: top;\n",
       "    }\n",
       "\n",
       "    .dataframe thead th {\n",
       "        text-align: right;\n",
       "    }\n",
       "</style>\n",
       "<table border=\"1\" class=\"dataframe\">\n",
       "  <thead>\n",
       "    <tr style=\"text-align: right;\">\n",
       "      <th></th>\n",
       "      <th>latitude</th>\n",
       "      <th>longitude</th>\n",
       "      <th>origin_datetime</th>\n",
       "      <th>hours_ahead</th>\n",
       "      <th>temperature</th>\n",
       "      <th>dewpoint</th>\n",
       "      <th>cloudcover_high</th>\n",
       "      <th>cloudcover_low</th>\n",
       "      <th>cloudcover_mid</th>\n",
       "      <th>cloudcover_total</th>\n",
       "      <th>10_metre_u_wind_component</th>\n",
       "      <th>10_metre_v_wind_component</th>\n",
       "      <th>data_block_id</th>\n",
       "      <th>forecast_datetime</th>\n",
       "      <th>direct_solar_radiation</th>\n",
       "      <th>surface_solar_radiation_downwards</th>\n",
       "      <th>snowfall</th>\n",
       "      <th>total_precipitation</th>\n",
       "    </tr>\n",
       "  </thead>\n",
       "  <tbody>\n",
       "    <tr>\n",
       "      <th>0</th>\n",
       "      <td>57.6</td>\n",
       "      <td>21.7</td>\n",
       "      <td>2021-09-01 02:00:00</td>\n",
       "      <td>1</td>\n",
       "      <td>15.655786</td>\n",
       "      <td>11.553613</td>\n",
       "      <td>0.904816</td>\n",
       "      <td>0.019714</td>\n",
       "      <td>0.000000</td>\n",
       "      <td>0.905899</td>\n",
       "      <td>-0.411328</td>\n",
       "      <td>-9.106137</td>\n",
       "      <td>1</td>\n",
       "      <td>2021-09-01 03:00:00</td>\n",
       "      <td>0.0</td>\n",
       "      <td>0.0</td>\n",
       "      <td>0.0</td>\n",
       "      <td>0.0</td>\n",
       "    </tr>\n",
       "    <tr>\n",
       "      <th>1</th>\n",
       "      <td>57.6</td>\n",
       "      <td>22.2</td>\n",
       "      <td>2021-09-01 02:00:00</td>\n",
       "      <td>1</td>\n",
       "      <td>13.003931</td>\n",
       "      <td>10.689844</td>\n",
       "      <td>0.886322</td>\n",
       "      <td>0.004456</td>\n",
       "      <td>0.000000</td>\n",
       "      <td>0.886658</td>\n",
       "      <td>0.206347</td>\n",
       "      <td>-5.355405</td>\n",
       "      <td>1</td>\n",
       "      <td>2021-09-01 03:00:00</td>\n",
       "      <td>0.0</td>\n",
       "      <td>0.0</td>\n",
       "      <td>0.0</td>\n",
       "      <td>0.0</td>\n",
       "    </tr>\n",
       "    <tr>\n",
       "      <th>2</th>\n",
       "      <td>57.6</td>\n",
       "      <td>22.7</td>\n",
       "      <td>2021-09-01 02:00:00</td>\n",
       "      <td>1</td>\n",
       "      <td>14.206567</td>\n",
       "      <td>11.671777</td>\n",
       "      <td>0.729034</td>\n",
       "      <td>0.005615</td>\n",
       "      <td>0.000000</td>\n",
       "      <td>0.730499</td>\n",
       "      <td>1.451587</td>\n",
       "      <td>-7.417905</td>\n",
       "      <td>1</td>\n",
       "      <td>2021-09-01 03:00:00</td>\n",
       "      <td>0.0</td>\n",
       "      <td>0.0</td>\n",
       "      <td>0.0</td>\n",
       "      <td>0.0</td>\n",
       "    </tr>\n",
       "    <tr>\n",
       "      <th>3</th>\n",
       "      <td>57.6</td>\n",
       "      <td>23.2</td>\n",
       "      <td>2021-09-01 02:00:00</td>\n",
       "      <td>1</td>\n",
       "      <td>14.844507</td>\n",
       "      <td>12.264917</td>\n",
       "      <td>0.336304</td>\n",
       "      <td>0.074341</td>\n",
       "      <td>0.000626</td>\n",
       "      <td>0.385468</td>\n",
       "      <td>1.090869</td>\n",
       "      <td>-9.163999</td>\n",
       "      <td>1</td>\n",
       "      <td>2021-09-01 03:00:00</td>\n",
       "      <td>0.0</td>\n",
       "      <td>0.0</td>\n",
       "      <td>0.0</td>\n",
       "      <td>0.0</td>\n",
       "    </tr>\n",
       "    <tr>\n",
       "      <th>4</th>\n",
       "      <td>57.6</td>\n",
       "      <td>23.7</td>\n",
       "      <td>2021-09-01 02:00:00</td>\n",
       "      <td>1</td>\n",
       "      <td>15.293848</td>\n",
       "      <td>12.458887</td>\n",
       "      <td>0.102875</td>\n",
       "      <td>0.088074</td>\n",
       "      <td>0.000015</td>\n",
       "      <td>0.176590</td>\n",
       "      <td>1.268481</td>\n",
       "      <td>-8.975766</td>\n",
       "      <td>1</td>\n",
       "      <td>2021-09-01 03:00:00</td>\n",
       "      <td>0.0</td>\n",
       "      <td>0.0</td>\n",
       "      <td>0.0</td>\n",
       "      <td>0.0</td>\n",
       "    </tr>\n",
       "  </tbody>\n",
       "</table>\n",
       "</div>"
      ],
      "text/plain": [
       "   latitude  longitude     origin_datetime  hours_ahead  temperature  \\\n",
       "0      57.6       21.7 2021-09-01 02:00:00            1    15.655786   \n",
       "1      57.6       22.2 2021-09-01 02:00:00            1    13.003931   \n",
       "2      57.6       22.7 2021-09-01 02:00:00            1    14.206567   \n",
       "3      57.6       23.2 2021-09-01 02:00:00            1    14.844507   \n",
       "4      57.6       23.7 2021-09-01 02:00:00            1    15.293848   \n",
       "\n",
       "    dewpoint  cloudcover_high  cloudcover_low  cloudcover_mid  \\\n",
       "0  11.553613         0.904816        0.019714        0.000000   \n",
       "1  10.689844         0.886322        0.004456        0.000000   \n",
       "2  11.671777         0.729034        0.005615        0.000000   \n",
       "3  12.264917         0.336304        0.074341        0.000626   \n",
       "4  12.458887         0.102875        0.088074        0.000015   \n",
       "\n",
       "   cloudcover_total  10_metre_u_wind_component  10_metre_v_wind_component  \\\n",
       "0          0.905899                  -0.411328                  -9.106137   \n",
       "1          0.886658                   0.206347                  -5.355405   \n",
       "2          0.730499                   1.451587                  -7.417905   \n",
       "3          0.385468                   1.090869                  -9.163999   \n",
       "4          0.176590                   1.268481                  -8.975766   \n",
       "\n",
       "   data_block_id   forecast_datetime  direct_solar_radiation  \\\n",
       "0              1 2021-09-01 03:00:00                     0.0   \n",
       "1              1 2021-09-01 03:00:00                     0.0   \n",
       "2              1 2021-09-01 03:00:00                     0.0   \n",
       "3              1 2021-09-01 03:00:00                     0.0   \n",
       "4              1 2021-09-01 03:00:00                     0.0   \n",
       "\n",
       "   surface_solar_radiation_downwards  snowfall  total_precipitation  \n",
       "0                                0.0       0.0                  0.0  \n",
       "1                                0.0       0.0                  0.0  \n",
       "2                                0.0       0.0                  0.0  \n",
       "3                                0.0       0.0                  0.0  \n",
       "4                                0.0       0.0                  0.0  "
      ]
     },
     "execution_count": 9,
     "metadata": {},
     "output_type": "execute_result"
    }
   ],
   "source": [
    "forecast_weather_df.head()"
   ]
  },
  {
   "cell_type": "code",
   "execution_count": 10,
   "id": "c6dbc8c8",
   "metadata": {
    "execution": {
     "iopub.execute_input": "2024-01-10T08:30:52.887160Z",
     "iopub.status.busy": "2024-01-10T08:30:52.886674Z",
     "iopub.status.idle": "2024-01-10T08:30:53.480313Z",
     "shell.execute_reply": "2024-01-10T08:30:53.478874Z"
    },
    "papermill": {
     "duration": 0.61337,
     "end_time": "2024-01-10T08:30:53.483188",
     "exception": false,
     "start_time": "2024-01-10T08:30:52.869818",
     "status": "completed"
    },
    "tags": []
   },
   "outputs": [
    {
     "data": {
      "text/html": [
       "<div>\n",
       "<style scoped>\n",
       "    .dataframe tbody tr th:only-of-type {\n",
       "        vertical-align: middle;\n",
       "    }\n",
       "\n",
       "    .dataframe tbody tr th {\n",
       "        vertical-align: top;\n",
       "    }\n",
       "\n",
       "    .dataframe thead th {\n",
       "        text-align: right;\n",
       "    }\n",
       "</style>\n",
       "<table border=\"1\" class=\"dataframe\">\n",
       "  <thead>\n",
       "    <tr style=\"text-align: right;\">\n",
       "      <th></th>\n",
       "      <th>county</th>\n",
       "      <th>is_business</th>\n",
       "      <th>product_type</th>\n",
       "      <th>target</th>\n",
       "      <th>is_consumption</th>\n",
       "      <th>datetime</th>\n",
       "      <th>data_block_id</th>\n",
       "      <th>row_id</th>\n",
       "      <th>prediction_unit_id</th>\n",
       "    </tr>\n",
       "  </thead>\n",
       "  <tbody>\n",
       "    <tr>\n",
       "      <th>count</th>\n",
       "      <td>2.018352e+06</td>\n",
       "      <td>2.018352e+06</td>\n",
       "      <td>2.018352e+06</td>\n",
       "      <td>2.017824e+06</td>\n",
       "      <td>2018352.0</td>\n",
       "      <td>2018352</td>\n",
       "      <td>2.018352e+06</td>\n",
       "      <td>2.018352e+06</td>\n",
       "      <td>2.018352e+06</td>\n",
       "    </tr>\n",
       "    <tr>\n",
       "      <th>mean</th>\n",
       "      <td>7.297034e+00</td>\n",
       "      <td>5.368261e-01</td>\n",
       "      <td>1.898927e+00</td>\n",
       "      <td>2.748556e+02</td>\n",
       "      <td>0.5</td>\n",
       "      <td>2022-07-20 08:29:25.326166016</td>\n",
       "      <td>3.218746e+02</td>\n",
       "      <td>1.009176e+06</td>\n",
       "      <td>3.304538e+01</td>\n",
       "    </tr>\n",
       "    <tr>\n",
       "      <th>min</th>\n",
       "      <td>0.000000e+00</td>\n",
       "      <td>0.000000e+00</td>\n",
       "      <td>0.000000e+00</td>\n",
       "      <td>0.000000e+00</td>\n",
       "      <td>0.0</td>\n",
       "      <td>2021-09-01 00:00:00</td>\n",
       "      <td>0.000000e+00</td>\n",
       "      <td>0.000000e+00</td>\n",
       "      <td>0.000000e+00</td>\n",
       "    </tr>\n",
       "    <tr>\n",
       "      <th>25%</th>\n",
       "      <td>3.000000e+00</td>\n",
       "      <td>0.000000e+00</td>\n",
       "      <td>1.000000e+00</td>\n",
       "      <td>3.780000e-01</td>\n",
       "      <td>0.0</td>\n",
       "      <td>2022-02-14 04:00:00</td>\n",
       "      <td>1.660000e+02</td>\n",
       "      <td>5.045878e+05</td>\n",
       "      <td>1.600000e+01</td>\n",
       "    </tr>\n",
       "    <tr>\n",
       "      <th>50%</th>\n",
       "      <td>7.000000e+00</td>\n",
       "      <td>1.000000e+00</td>\n",
       "      <td>2.000000e+00</td>\n",
       "      <td>3.113300e+01</td>\n",
       "      <td>0.5</td>\n",
       "      <td>2022-07-21 09:30:00</td>\n",
       "      <td>3.230000e+02</td>\n",
       "      <td>1.009176e+06</td>\n",
       "      <td>3.300000e+01</td>\n",
       "    </tr>\n",
       "    <tr>\n",
       "      <th>75%</th>\n",
       "      <td>1.100000e+01</td>\n",
       "      <td>1.000000e+00</td>\n",
       "      <td>3.000000e+00</td>\n",
       "      <td>1.802062e+02</td>\n",
       "      <td>1.0</td>\n",
       "      <td>2022-12-24 14:00:00</td>\n",
       "      <td>4.790000e+02</td>\n",
       "      <td>1.513763e+06</td>\n",
       "      <td>5.000000e+01</td>\n",
       "    </tr>\n",
       "    <tr>\n",
       "      <th>max</th>\n",
       "      <td>1.500000e+01</td>\n",
       "      <td>1.000000e+00</td>\n",
       "      <td>3.000000e+00</td>\n",
       "      <td>1.548027e+04</td>\n",
       "      <td>1.0</td>\n",
       "      <td>2023-05-31 23:00:00</td>\n",
       "      <td>6.370000e+02</td>\n",
       "      <td>2.018351e+06</td>\n",
       "      <td>6.800000e+01</td>\n",
       "    </tr>\n",
       "    <tr>\n",
       "      <th>std</th>\n",
       "      <td>4.780990e+00</td>\n",
       "      <td>4.986421e-01</td>\n",
       "      <td>1.081766e+00</td>\n",
       "      <td>9.095024e+02</td>\n",
       "      <td>0.5</td>\n",
       "      <td>NaN</td>\n",
       "      <td>1.826343e+02</td>\n",
       "      <td>5.826482e+05</td>\n",
       "      <td>1.959059e+01</td>\n",
       "    </tr>\n",
       "  </tbody>\n",
       "</table>\n",
       "</div>"
      ],
      "text/plain": [
       "             county   is_business  product_type        target  is_consumption  \\\n",
       "count  2.018352e+06  2.018352e+06  2.018352e+06  2.017824e+06       2018352.0   \n",
       "mean   7.297034e+00  5.368261e-01  1.898927e+00  2.748556e+02             0.5   \n",
       "min    0.000000e+00  0.000000e+00  0.000000e+00  0.000000e+00             0.0   \n",
       "25%    3.000000e+00  0.000000e+00  1.000000e+00  3.780000e-01             0.0   \n",
       "50%    7.000000e+00  1.000000e+00  2.000000e+00  3.113300e+01             0.5   \n",
       "75%    1.100000e+01  1.000000e+00  3.000000e+00  1.802062e+02             1.0   \n",
       "max    1.500000e+01  1.000000e+00  3.000000e+00  1.548027e+04             1.0   \n",
       "std    4.780990e+00  4.986421e-01  1.081766e+00  9.095024e+02             0.5   \n",
       "\n",
       "                            datetime  data_block_id        row_id  \\\n",
       "count                        2018352   2.018352e+06  2.018352e+06   \n",
       "mean   2022-07-20 08:29:25.326166016   3.218746e+02  1.009176e+06   \n",
       "min              2021-09-01 00:00:00   0.000000e+00  0.000000e+00   \n",
       "25%              2022-02-14 04:00:00   1.660000e+02  5.045878e+05   \n",
       "50%              2022-07-21 09:30:00   3.230000e+02  1.009176e+06   \n",
       "75%              2022-12-24 14:00:00   4.790000e+02  1.513763e+06   \n",
       "max              2023-05-31 23:00:00   6.370000e+02  2.018351e+06   \n",
       "std                              NaN   1.826343e+02  5.826482e+05   \n",
       "\n",
       "       prediction_unit_id  \n",
       "count        2.018352e+06  \n",
       "mean         3.304538e+01  \n",
       "min          0.000000e+00  \n",
       "25%          1.600000e+01  \n",
       "50%          3.300000e+01  \n",
       "75%          5.000000e+01  \n",
       "max          6.800000e+01  \n",
       "std          1.959059e+01  "
      ]
     },
     "execution_count": 10,
     "metadata": {},
     "output_type": "execute_result"
    }
   ],
   "source": [
    "train_df.describe()"
   ]
  },
  {
   "cell_type": "code",
   "execution_count": 11,
   "id": "0d42189f",
   "metadata": {
    "execution": {
     "iopub.execute_input": "2024-01-10T08:30:53.516496Z",
     "iopub.status.busy": "2024-01-10T08:30:53.516044Z",
     "iopub.status.idle": "2024-01-10T08:30:53.545297Z",
     "shell.execute_reply": "2024-01-10T08:30:53.543743Z"
    },
    "papermill": {
     "duration": 0.049128,
     "end_time": "2024-01-10T08:30:53.548002",
     "exception": false,
     "start_time": "2024-01-10T08:30:53.498874",
     "status": "completed"
    },
    "tags": []
   },
   "outputs": [
    {
     "data": {
      "text/html": [
       "<div>\n",
       "<style scoped>\n",
       "    .dataframe tbody tr th:only-of-type {\n",
       "        vertical-align: middle;\n",
       "    }\n",
       "\n",
       "    .dataframe tbody tr th {\n",
       "        vertical-align: top;\n",
       "    }\n",
       "\n",
       "    .dataframe thead th {\n",
       "        text-align: right;\n",
       "    }\n",
       "</style>\n",
       "<table border=\"1\" class=\"dataframe\">\n",
       "  <thead>\n",
       "    <tr style=\"text-align: right;\">\n",
       "      <th></th>\n",
       "      <th>forecast_date</th>\n",
       "      <th>lowest_price_per_mwh</th>\n",
       "      <th>highest_price_per_mwh</th>\n",
       "      <th>data_block_id</th>\n",
       "    </tr>\n",
       "  </thead>\n",
       "  <tbody>\n",
       "    <tr>\n",
       "      <th>count</th>\n",
       "      <td>637</td>\n",
       "      <td>637.000000</td>\n",
       "      <td>637.000000</td>\n",
       "      <td>637.000000</td>\n",
       "    </tr>\n",
       "    <tr>\n",
       "      <th>mean</th>\n",
       "      <td>2022-07-16 00:00:00</td>\n",
       "      <td>95.036750</td>\n",
       "      <td>107.754631</td>\n",
       "      <td>319.000000</td>\n",
       "    </tr>\n",
       "    <tr>\n",
       "      <th>min</th>\n",
       "      <td>2021-09-01 00:00:00</td>\n",
       "      <td>28.100000</td>\n",
       "      <td>34.000000</td>\n",
       "      <td>1.000000</td>\n",
       "    </tr>\n",
       "    <tr>\n",
       "      <th>25%</th>\n",
       "      <td>2022-02-07 00:00:00</td>\n",
       "      <td>60.000000</td>\n",
       "      <td>67.530000</td>\n",
       "      <td>160.000000</td>\n",
       "    </tr>\n",
       "    <tr>\n",
       "      <th>50%</th>\n",
       "      <td>2022-07-16 00:00:00</td>\n",
       "      <td>85.210000</td>\n",
       "      <td>93.470000</td>\n",
       "      <td>319.000000</td>\n",
       "    </tr>\n",
       "    <tr>\n",
       "      <th>75%</th>\n",
       "      <td>2022-12-22 00:00:00</td>\n",
       "      <td>109.000000</td>\n",
       "      <td>130.740000</td>\n",
       "      <td>478.000000</td>\n",
       "    </tr>\n",
       "    <tr>\n",
       "      <th>max</th>\n",
       "      <td>2023-05-30 00:00:00</td>\n",
       "      <td>250.000000</td>\n",
       "      <td>305.000000</td>\n",
       "      <td>637.000000</td>\n",
       "    </tr>\n",
       "    <tr>\n",
       "      <th>std</th>\n",
       "      <td>NaN</td>\n",
       "      <td>47.552295</td>\n",
       "      <td>54.743666</td>\n",
       "      <td>184.030342</td>\n",
       "    </tr>\n",
       "  </tbody>\n",
       "</table>\n",
       "</div>"
      ],
      "text/plain": [
       "             forecast_date  lowest_price_per_mwh  highest_price_per_mwh  \\\n",
       "count                  637            637.000000             637.000000   \n",
       "mean   2022-07-16 00:00:00             95.036750             107.754631   \n",
       "min    2021-09-01 00:00:00             28.100000              34.000000   \n",
       "25%    2022-02-07 00:00:00             60.000000              67.530000   \n",
       "50%    2022-07-16 00:00:00             85.210000              93.470000   \n",
       "75%    2022-12-22 00:00:00            109.000000             130.740000   \n",
       "max    2023-05-30 00:00:00            250.000000             305.000000   \n",
       "std                    NaN             47.552295              54.743666   \n",
       "\n",
       "       data_block_id  \n",
       "count     637.000000  \n",
       "mean      319.000000  \n",
       "min         1.000000  \n",
       "25%       160.000000  \n",
       "50%       319.000000  \n",
       "75%       478.000000  \n",
       "max       637.000000  \n",
       "std       184.030342  "
      ]
     },
     "execution_count": 11,
     "metadata": {},
     "output_type": "execute_result"
    }
   ],
   "source": [
    "gasprices_df.describe()"
   ]
  },
  {
   "cell_type": "code",
   "execution_count": 12,
   "id": "2e01b70a",
   "metadata": {
    "execution": {
     "iopub.execute_input": "2024-01-10T08:30:53.581464Z",
     "iopub.status.busy": "2024-01-10T08:30:53.581021Z",
     "iopub.status.idle": "2024-01-10T08:30:53.610202Z",
     "shell.execute_reply": "2024-01-10T08:30:53.609070Z"
    },
    "papermill": {
     "duration": 0.049123,
     "end_time": "2024-01-10T08:30:53.612949",
     "exception": false,
     "start_time": "2024-01-10T08:30:53.563826",
     "status": "completed"
    },
    "tags": []
   },
   "outputs": [
    {
     "data": {
      "text/html": [
       "<div>\n",
       "<style scoped>\n",
       "    .dataframe tbody tr th:only-of-type {\n",
       "        vertical-align: middle;\n",
       "    }\n",
       "\n",
       "    .dataframe tbody tr th {\n",
       "        vertical-align: top;\n",
       "    }\n",
       "\n",
       "    .dataframe thead th {\n",
       "        text-align: right;\n",
       "    }\n",
       "</style>\n",
       "<table border=\"1\" class=\"dataframe\">\n",
       "  <thead>\n",
       "    <tr style=\"text-align: right;\">\n",
       "      <th></th>\n",
       "      <th>forecast_date</th>\n",
       "      <th>euros_per_mwh</th>\n",
       "      <th>origin_date</th>\n",
       "      <th>data_block_id</th>\n",
       "    </tr>\n",
       "  </thead>\n",
       "  <tbody>\n",
       "    <tr>\n",
       "      <th>count</th>\n",
       "      <td>15286</td>\n",
       "      <td>15286.000000</td>\n",
       "      <td>15286</td>\n",
       "      <td>15286.000000</td>\n",
       "    </tr>\n",
       "    <tr>\n",
       "      <th>mean</th>\n",
       "      <td>2022-07-16 11:16:41.857909248</td>\n",
       "      <td>157.064176</td>\n",
       "      <td>2022-07-15 11:16:41.857909248</td>\n",
       "      <td>318.990710</td>\n",
       "    </tr>\n",
       "    <tr>\n",
       "      <th>min</th>\n",
       "      <td>2021-09-01 00:00:00</td>\n",
       "      <td>-10.060000</td>\n",
       "      <td>2021-08-31 00:00:00</td>\n",
       "      <td>1.000000</td>\n",
       "    </tr>\n",
       "    <tr>\n",
       "      <th>25%</th>\n",
       "      <td>2022-02-07 05:15:00</td>\n",
       "      <td>85.290000</td>\n",
       "      <td>2022-02-06 05:15:00</td>\n",
       "      <td>160.000000</td>\n",
       "    </tr>\n",
       "    <tr>\n",
       "      <th>50%</th>\n",
       "      <td>2022-07-16 11:30:00</td>\n",
       "      <td>128.280000</td>\n",
       "      <td>2022-07-15 11:30:00</td>\n",
       "      <td>319.000000</td>\n",
       "    </tr>\n",
       "    <tr>\n",
       "      <th>75%</th>\n",
       "      <td>2022-12-22 16:45:00</td>\n",
       "      <td>199.797500</td>\n",
       "      <td>2022-12-21 16:45:00</td>\n",
       "      <td>478.000000</td>\n",
       "    </tr>\n",
       "    <tr>\n",
       "      <th>max</th>\n",
       "      <td>2023-05-30 23:00:00</td>\n",
       "      <td>4000.000000</td>\n",
       "      <td>2023-05-29 23:00:00</td>\n",
       "      <td>637.000000</td>\n",
       "    </tr>\n",
       "    <tr>\n",
       "      <th>std</th>\n",
       "      <td>NaN</td>\n",
       "      <td>121.148625</td>\n",
       "      <td>NaN</td>\n",
       "      <td>183.890301</td>\n",
       "    </tr>\n",
       "  </tbody>\n",
       "</table>\n",
       "</div>"
      ],
      "text/plain": [
       "                       forecast_date  euros_per_mwh  \\\n",
       "count                          15286   15286.000000   \n",
       "mean   2022-07-16 11:16:41.857909248     157.064176   \n",
       "min              2021-09-01 00:00:00     -10.060000   \n",
       "25%              2022-02-07 05:15:00      85.290000   \n",
       "50%              2022-07-16 11:30:00     128.280000   \n",
       "75%              2022-12-22 16:45:00     199.797500   \n",
       "max              2023-05-30 23:00:00    4000.000000   \n",
       "std                              NaN     121.148625   \n",
       "\n",
       "                         origin_date  data_block_id  \n",
       "count                          15286   15286.000000  \n",
       "mean   2022-07-15 11:16:41.857909248     318.990710  \n",
       "min              2021-08-31 00:00:00       1.000000  \n",
       "25%              2022-02-06 05:15:00     160.000000  \n",
       "50%              2022-07-15 11:30:00     319.000000  \n",
       "75%              2022-12-21 16:45:00     478.000000  \n",
       "max              2023-05-29 23:00:00     637.000000  \n",
       "std                              NaN     183.890301  "
      ]
     },
     "execution_count": 12,
     "metadata": {},
     "output_type": "execute_result"
    }
   ],
   "source": [
    "electricity_prices_df.describe()"
   ]
  },
  {
   "cell_type": "code",
   "execution_count": 13,
   "id": "df42eb70",
   "metadata": {
    "execution": {
     "iopub.execute_input": "2024-01-10T08:30:53.647398Z",
     "iopub.status.busy": "2024-01-10T08:30:53.646945Z",
     "iopub.status.idle": "2024-01-10T08:30:53.669487Z",
     "shell.execute_reply": "2024-01-10T08:30:53.668373Z"
    },
    "papermill": {
     "duration": 0.043151,
     "end_time": "2024-01-10T08:30:53.672228",
     "exception": false,
     "start_time": "2024-01-10T08:30:53.629077",
     "status": "completed"
    },
    "tags": []
   },
   "outputs": [
    {
     "data": {
      "text/html": [
       "<div>\n",
       "<style scoped>\n",
       "    .dataframe tbody tr th:only-of-type {\n",
       "        vertical-align: middle;\n",
       "    }\n",
       "\n",
       "    .dataframe tbody tr th {\n",
       "        vertical-align: top;\n",
       "    }\n",
       "\n",
       "    .dataframe thead th {\n",
       "        text-align: right;\n",
       "    }\n",
       "</style>\n",
       "<table border=\"1\" class=\"dataframe\">\n",
       "  <thead>\n",
       "    <tr style=\"text-align: right;\">\n",
       "      <th></th>\n",
       "      <th>longitude</th>\n",
       "      <th>latitude</th>\n",
       "      <th>county</th>\n",
       "    </tr>\n",
       "  </thead>\n",
       "  <tbody>\n",
       "    <tr>\n",
       "      <th>count</th>\n",
       "      <td>112.000000</td>\n",
       "      <td>112.000000</td>\n",
       "      <td>49.000000</td>\n",
       "    </tr>\n",
       "    <tr>\n",
       "      <th>mean</th>\n",
       "      <td>24.950000</td>\n",
       "      <td>58.650000</td>\n",
       "      <td>7.061224</td>\n",
       "    </tr>\n",
       "    <tr>\n",
       "      <th>std</th>\n",
       "      <td>2.024623</td>\n",
       "      <td>0.690476</td>\n",
       "      <td>4.870866</td>\n",
       "    </tr>\n",
       "    <tr>\n",
       "      <th>min</th>\n",
       "      <td>21.700000</td>\n",
       "      <td>57.600000</td>\n",
       "      <td>0.000000</td>\n",
       "    </tr>\n",
       "    <tr>\n",
       "      <th>25%</th>\n",
       "      <td>23.200000</td>\n",
       "      <td>58.125000</td>\n",
       "      <td>3.000000</td>\n",
       "    </tr>\n",
       "    <tr>\n",
       "      <th>50%</th>\n",
       "      <td>24.950000</td>\n",
       "      <td>58.650000</td>\n",
       "      <td>7.000000</td>\n",
       "    </tr>\n",
       "    <tr>\n",
       "      <th>75%</th>\n",
       "      <td>26.700000</td>\n",
       "      <td>59.175000</td>\n",
       "      <td>11.000000</td>\n",
       "    </tr>\n",
       "    <tr>\n",
       "      <th>max</th>\n",
       "      <td>28.200000</td>\n",
       "      <td>59.700000</td>\n",
       "      <td>15.000000</td>\n",
       "    </tr>\n",
       "  </tbody>\n",
       "</table>\n",
       "</div>"
      ],
      "text/plain": [
       "        longitude    latitude     county\n",
       "count  112.000000  112.000000  49.000000\n",
       "mean    24.950000   58.650000   7.061224\n",
       "std      2.024623    0.690476   4.870866\n",
       "min     21.700000   57.600000   0.000000\n",
       "25%     23.200000   58.125000   3.000000\n",
       "50%     24.950000   58.650000   7.000000\n",
       "75%     26.700000   59.175000  11.000000\n",
       "max     28.200000   59.700000  15.000000"
      ]
     },
     "execution_count": 13,
     "metadata": {},
     "output_type": "execute_result"
    }
   ],
   "source": [
    "wst_df.describe()"
   ]
  },
  {
   "cell_type": "code",
   "execution_count": 14,
   "id": "16a65761",
   "metadata": {
    "execution": {
     "iopub.execute_input": "2024-01-10T08:30:53.800077Z",
     "iopub.status.busy": "2024-01-10T08:30:53.799351Z",
     "iopub.status.idle": "2024-01-10T08:30:54.955516Z",
     "shell.execute_reply": "2024-01-10T08:30:54.953858Z"
    },
    "papermill": {
     "duration": 1.178444,
     "end_time": "2024-01-10T08:30:54.958524",
     "exception": false,
     "start_time": "2024-01-10T08:30:53.780080",
     "status": "completed"
    },
    "tags": []
   },
   "outputs": [
    {
     "data": {
      "text/html": [
       "<div>\n",
       "<style scoped>\n",
       "    .dataframe tbody tr th:only-of-type {\n",
       "        vertical-align: middle;\n",
       "    }\n",
       "\n",
       "    .dataframe tbody tr th {\n",
       "        vertical-align: top;\n",
       "    }\n",
       "\n",
       "    .dataframe thead th {\n",
       "        text-align: right;\n",
       "    }\n",
       "</style>\n",
       "<table border=\"1\" class=\"dataframe\">\n",
       "  <thead>\n",
       "    <tr style=\"text-align: right;\">\n",
       "      <th></th>\n",
       "      <th>datetime</th>\n",
       "      <th>temperature</th>\n",
       "      <th>dewpoint</th>\n",
       "      <th>rain</th>\n",
       "      <th>snowfall</th>\n",
       "      <th>surface_pressure</th>\n",
       "      <th>cloudcover_total</th>\n",
       "      <th>cloudcover_low</th>\n",
       "      <th>cloudcover_mid</th>\n",
       "      <th>cloudcover_high</th>\n",
       "      <th>windspeed_10m</th>\n",
       "      <th>winddirection_10m</th>\n",
       "      <th>shortwave_radiation</th>\n",
       "      <th>direct_solar_radiation</th>\n",
       "      <th>diffuse_radiation</th>\n",
       "      <th>latitude</th>\n",
       "      <th>longitude</th>\n",
       "      <th>data_block_id</th>\n",
       "    </tr>\n",
       "  </thead>\n",
       "  <tbody>\n",
       "    <tr>\n",
       "      <th>count</th>\n",
       "      <td>1710802</td>\n",
       "      <td>1.710802e+06</td>\n",
       "      <td>1.710802e+06</td>\n",
       "      <td>1.710802e+06</td>\n",
       "      <td>1.710802e+06</td>\n",
       "      <td>1.710802e+06</td>\n",
       "      <td>1.710802e+06</td>\n",
       "      <td>1.710802e+06</td>\n",
       "      <td>1.710802e+06</td>\n",
       "      <td>1.710802e+06</td>\n",
       "      <td>1.710802e+06</td>\n",
       "      <td>1.710802e+06</td>\n",
       "      <td>1.710802e+06</td>\n",
       "      <td>1.710802e+06</td>\n",
       "      <td>1.710802e+06</td>\n",
       "      <td>1.710802e+06</td>\n",
       "      <td>1.710802e+06</td>\n",
       "      <td>1.710802e+06</td>\n",
       "    </tr>\n",
       "    <tr>\n",
       "      <th>mean</th>\n",
       "      <td>2022-07-16 05:00:12.061708544</td>\n",
       "      <td>5.740968e+00</td>\n",
       "      <td>2.240312e+00</td>\n",
       "      <td>4.962012e-02</td>\n",
       "      <td>1.604896e-02</td>\n",
       "      <td>1.009282e+03</td>\n",
       "      <td>6.091270e+01</td>\n",
       "      <td>4.668593e+01</td>\n",
       "      <td>3.440698e+01</td>\n",
       "      <td>3.605141e+01</td>\n",
       "      <td>4.849871e+00</td>\n",
       "      <td>1.978694e+02</td>\n",
       "      <td>1.064905e+02</td>\n",
       "      <td>6.445292e+01</td>\n",
       "      <td>4.203759e+01</td>\n",
       "      <td>5.865000e+01</td>\n",
       "      <td>2.495000e+01</td>\n",
       "      <td>3.192708e+02</td>\n",
       "    </tr>\n",
       "    <tr>\n",
       "      <th>min</th>\n",
       "      <td>2021-09-01 00:00:00</td>\n",
       "      <td>-2.370000e+01</td>\n",
       "      <td>-2.590000e+01</td>\n",
       "      <td>0.000000e+00</td>\n",
       "      <td>0.000000e+00</td>\n",
       "      <td>9.429000e+02</td>\n",
       "      <td>0.000000e+00</td>\n",
       "      <td>0.000000e+00</td>\n",
       "      <td>0.000000e+00</td>\n",
       "      <td>0.000000e+00</td>\n",
       "      <td>0.000000e+00</td>\n",
       "      <td>0.000000e+00</td>\n",
       "      <td>0.000000e+00</td>\n",
       "      <td>0.000000e+00</td>\n",
       "      <td>0.000000e+00</td>\n",
       "      <td>5.760000e+01</td>\n",
       "      <td>2.170000e+01</td>\n",
       "      <td>1.000000e+00</td>\n",
       "    </tr>\n",
       "    <tr>\n",
       "      <th>25%</th>\n",
       "      <td>2022-02-07 02:00:00</td>\n",
       "      <td>0.000000e+00</td>\n",
       "      <td>-2.600000e+00</td>\n",
       "      <td>0.000000e+00</td>\n",
       "      <td>0.000000e+00</td>\n",
       "      <td>1.001500e+03</td>\n",
       "      <td>2.500000e+01</td>\n",
       "      <td>3.000000e+00</td>\n",
       "      <td>0.000000e+00</td>\n",
       "      <td>0.000000e+00</td>\n",
       "      <td>3.000000e+00</td>\n",
       "      <td>1.390000e+02</td>\n",
       "      <td>0.000000e+00</td>\n",
       "      <td>0.000000e+00</td>\n",
       "      <td>0.000000e+00</td>\n",
       "      <td>5.790000e+01</td>\n",
       "      <td>2.320000e+01</td>\n",
       "      <td>1.600000e+02</td>\n",
       "    </tr>\n",
       "    <tr>\n",
       "      <th>50%</th>\n",
       "      <td>2022-07-16 05:00:00</td>\n",
       "      <td>5.100000e+00</td>\n",
       "      <td>1.700000e+00</td>\n",
       "      <td>0.000000e+00</td>\n",
       "      <td>0.000000e+00</td>\n",
       "      <td>1.010400e+03</td>\n",
       "      <td>7.200000e+01</td>\n",
       "      <td>3.900000e+01</td>\n",
       "      <td>1.600000e+01</td>\n",
       "      <td>1.000000e+01</td>\n",
       "      <td>4.500000e+00</td>\n",
       "      <td>2.080000e+02</td>\n",
       "      <td>1.000000e+00</td>\n",
       "      <td>0.000000e+00</td>\n",
       "      <td>1.000000e+00</td>\n",
       "      <td>5.850000e+01</td>\n",
       "      <td>2.470000e+01</td>\n",
       "      <td>3.190000e+02</td>\n",
       "    </tr>\n",
       "    <tr>\n",
       "      <th>75%</th>\n",
       "      <td>2022-12-22 08:00:00</td>\n",
       "      <td>1.120000e+01</td>\n",
       "      <td>7.200000e+00</td>\n",
       "      <td>0.000000e+00</td>\n",
       "      <td>0.000000e+00</td>\n",
       "      <td>1.018000e+03</td>\n",
       "      <td>1.000000e+02</td>\n",
       "      <td>9.400000e+01</td>\n",
       "      <td>7.200000e+01</td>\n",
       "      <td>8.500000e+01</td>\n",
       "      <td>6.277778e+00</td>\n",
       "      <td>2.630000e+02</td>\n",
       "      <td>1.400000e+02</td>\n",
       "      <td>4.700000e+01</td>\n",
       "      <td>7.400000e+01</td>\n",
       "      <td>5.910000e+01</td>\n",
       "      <td>2.670000e+01</td>\n",
       "      <td>4.780000e+02</td>\n",
       "    </tr>\n",
       "    <tr>\n",
       "      <th>max</th>\n",
       "      <td>2023-05-30 10:00:00</td>\n",
       "      <td>3.260000e+01</td>\n",
       "      <td>2.380000e+01</td>\n",
       "      <td>1.680000e+01</td>\n",
       "      <td>2.660000e+00</td>\n",
       "      <td>1.049300e+03</td>\n",
       "      <td>1.000000e+02</td>\n",
       "      <td>1.000000e+02</td>\n",
       "      <td>1.000000e+02</td>\n",
       "      <td>1.000000e+02</td>\n",
       "      <td>2.175000e+01</td>\n",
       "      <td>3.600000e+02</td>\n",
       "      <td>8.490000e+02</td>\n",
       "      <td>7.540000e+02</td>\n",
       "      <td>3.880000e+02</td>\n",
       "      <td>5.970000e+01</td>\n",
       "      <td>2.820000e+01</td>\n",
       "      <td>6.370000e+02</td>\n",
       "    </tr>\n",
       "    <tr>\n",
       "      <th>std</th>\n",
       "      <td>NaN</td>\n",
       "      <td>8.025647e+00</td>\n",
       "      <td>7.224357e+00</td>\n",
       "      <td>2.079113e-01</td>\n",
       "      <td>7.462936e-02</td>\n",
       "      <td>1.308891e+01</td>\n",
       "      <td>3.776905e+01</td>\n",
       "      <td>4.074760e+01</td>\n",
       "      <td>3.832769e+01</td>\n",
       "      <td>4.135852e+01</td>\n",
       "      <td>2.475450e+00</td>\n",
       "      <td>8.993798e+01</td>\n",
       "      <td>1.799449e+02</td>\n",
       "      <td>1.334100e+02</td>\n",
       "      <td>6.195225e+01</td>\n",
       "      <td>6.873871e-01</td>\n",
       "      <td>2.015564e+00</td>\n",
       "      <td>1.837298e+02</td>\n",
       "    </tr>\n",
       "  </tbody>\n",
       "</table>\n",
       "</div>"
      ],
      "text/plain": [
       "                            datetime   temperature      dewpoint  \\\n",
       "count                        1710802  1.710802e+06  1.710802e+06   \n",
       "mean   2022-07-16 05:00:12.061708544  5.740968e+00  2.240312e+00   \n",
       "min              2021-09-01 00:00:00 -2.370000e+01 -2.590000e+01   \n",
       "25%              2022-02-07 02:00:00  0.000000e+00 -2.600000e+00   \n",
       "50%              2022-07-16 05:00:00  5.100000e+00  1.700000e+00   \n",
       "75%              2022-12-22 08:00:00  1.120000e+01  7.200000e+00   \n",
       "max              2023-05-30 10:00:00  3.260000e+01  2.380000e+01   \n",
       "std                              NaN  8.025647e+00  7.224357e+00   \n",
       "\n",
       "               rain      snowfall  surface_pressure  cloudcover_total  \\\n",
       "count  1.710802e+06  1.710802e+06      1.710802e+06      1.710802e+06   \n",
       "mean   4.962012e-02  1.604896e-02      1.009282e+03      6.091270e+01   \n",
       "min    0.000000e+00  0.000000e+00      9.429000e+02      0.000000e+00   \n",
       "25%    0.000000e+00  0.000000e+00      1.001500e+03      2.500000e+01   \n",
       "50%    0.000000e+00  0.000000e+00      1.010400e+03      7.200000e+01   \n",
       "75%    0.000000e+00  0.000000e+00      1.018000e+03      1.000000e+02   \n",
       "max    1.680000e+01  2.660000e+00      1.049300e+03      1.000000e+02   \n",
       "std    2.079113e-01  7.462936e-02      1.308891e+01      3.776905e+01   \n",
       "\n",
       "       cloudcover_low  cloudcover_mid  cloudcover_high  windspeed_10m  \\\n",
       "count    1.710802e+06    1.710802e+06     1.710802e+06   1.710802e+06   \n",
       "mean     4.668593e+01    3.440698e+01     3.605141e+01   4.849871e+00   \n",
       "min      0.000000e+00    0.000000e+00     0.000000e+00   0.000000e+00   \n",
       "25%      3.000000e+00    0.000000e+00     0.000000e+00   3.000000e+00   \n",
       "50%      3.900000e+01    1.600000e+01     1.000000e+01   4.500000e+00   \n",
       "75%      9.400000e+01    7.200000e+01     8.500000e+01   6.277778e+00   \n",
       "max      1.000000e+02    1.000000e+02     1.000000e+02   2.175000e+01   \n",
       "std      4.074760e+01    3.832769e+01     4.135852e+01   2.475450e+00   \n",
       "\n",
       "       winddirection_10m  shortwave_radiation  direct_solar_radiation  \\\n",
       "count       1.710802e+06         1.710802e+06            1.710802e+06   \n",
       "mean        1.978694e+02         1.064905e+02            6.445292e+01   \n",
       "min         0.000000e+00         0.000000e+00            0.000000e+00   \n",
       "25%         1.390000e+02         0.000000e+00            0.000000e+00   \n",
       "50%         2.080000e+02         1.000000e+00            0.000000e+00   \n",
       "75%         2.630000e+02         1.400000e+02            4.700000e+01   \n",
       "max         3.600000e+02         8.490000e+02            7.540000e+02   \n",
       "std         8.993798e+01         1.799449e+02            1.334100e+02   \n",
       "\n",
       "       diffuse_radiation      latitude     longitude  data_block_id  \n",
       "count       1.710802e+06  1.710802e+06  1.710802e+06   1.710802e+06  \n",
       "mean        4.203759e+01  5.865000e+01  2.495000e+01   3.192708e+02  \n",
       "min         0.000000e+00  5.760000e+01  2.170000e+01   1.000000e+00  \n",
       "25%         0.000000e+00  5.790000e+01  2.320000e+01   1.600000e+02  \n",
       "50%         1.000000e+00  5.850000e+01  2.470000e+01   3.190000e+02  \n",
       "75%         7.400000e+01  5.910000e+01  2.670000e+01   4.780000e+02  \n",
       "max         3.880000e+02  5.970000e+01  2.820000e+01   6.370000e+02  \n",
       "std         6.195225e+01  6.873871e-01  2.015564e+00   1.837298e+02  "
      ]
     },
     "execution_count": 14,
     "metadata": {},
     "output_type": "execute_result"
    }
   ],
   "source": [
    "historical_weather_df.describe()"
   ]
  },
  {
   "cell_type": "code",
   "execution_count": 15,
   "id": "eaaf677a",
   "metadata": {
    "execution": {
     "iopub.execute_input": "2024-01-10T08:30:54.999052Z",
     "iopub.status.busy": "2024-01-10T08:30:54.997458Z",
     "iopub.status.idle": "2024-01-10T08:30:57.597517Z",
     "shell.execute_reply": "2024-01-10T08:30:57.596192Z"
    },
    "papermill": {
     "duration": 2.625139,
     "end_time": "2024-01-10T08:30:57.602531",
     "exception": false,
     "start_time": "2024-01-10T08:30:54.977392",
     "status": "completed"
    },
    "tags": []
   },
   "outputs": [
    {
     "data": {
      "text/html": [
       "<div>\n",
       "<style scoped>\n",
       "    .dataframe tbody tr th:only-of-type {\n",
       "        vertical-align: middle;\n",
       "    }\n",
       "\n",
       "    .dataframe tbody tr th {\n",
       "        vertical-align: top;\n",
       "    }\n",
       "\n",
       "    .dataframe thead th {\n",
       "        text-align: right;\n",
       "    }\n",
       "</style>\n",
       "<table border=\"1\" class=\"dataframe\">\n",
       "  <thead>\n",
       "    <tr style=\"text-align: right;\">\n",
       "      <th></th>\n",
       "      <th>latitude</th>\n",
       "      <th>longitude</th>\n",
       "      <th>origin_datetime</th>\n",
       "      <th>hours_ahead</th>\n",
       "      <th>temperature</th>\n",
       "      <th>dewpoint</th>\n",
       "      <th>cloudcover_high</th>\n",
       "      <th>cloudcover_low</th>\n",
       "      <th>cloudcover_mid</th>\n",
       "      <th>cloudcover_total</th>\n",
       "      <th>10_metre_u_wind_component</th>\n",
       "      <th>10_metre_v_wind_component</th>\n",
       "      <th>data_block_id</th>\n",
       "      <th>forecast_datetime</th>\n",
       "      <th>direct_solar_radiation</th>\n",
       "      <th>surface_solar_radiation_downwards</th>\n",
       "      <th>snowfall</th>\n",
       "      <th>total_precipitation</th>\n",
       "    </tr>\n",
       "  </thead>\n",
       "  <tbody>\n",
       "    <tr>\n",
       "      <th>count</th>\n",
       "      <td>3.424512e+06</td>\n",
       "      <td>3.424512e+06</td>\n",
       "      <td>3424512</td>\n",
       "      <td>3.424512e+06</td>\n",
       "      <td>3.424512e+06</td>\n",
       "      <td>3.424512e+06</td>\n",
       "      <td>3.424512e+06</td>\n",
       "      <td>3.424512e+06</td>\n",
       "      <td>3.424512e+06</td>\n",
       "      <td>3.424512e+06</td>\n",
       "      <td>3.424512e+06</td>\n",
       "      <td>3.424512e+06</td>\n",
       "      <td>3.424512e+06</td>\n",
       "      <td>3424512</td>\n",
       "      <td>3.424512e+06</td>\n",
       "      <td>3.424510e+06</td>\n",
       "      <td>3.424512e+06</td>\n",
       "      <td>3.424512e+06</td>\n",
       "    </tr>\n",
       "    <tr>\n",
       "      <th>mean</th>\n",
       "      <td>5.865000e+01</td>\n",
       "      <td>2.495000e+01</td>\n",
       "      <td>2022-07-16 01:32:18.461540352</td>\n",
       "      <td>2.450000e+01</td>\n",
       "      <td>5.743913e+00</td>\n",
       "      <td>2.411946e+00</td>\n",
       "      <td>3.946654e-01</td>\n",
       "      <td>4.346453e-01</td>\n",
       "      <td>3.590693e-01</td>\n",
       "      <td>6.819927e-01</td>\n",
       "      <td>1.255446e+00</td>\n",
       "      <td>7.250110e-01</td>\n",
       "      <td>3.190000e+02</td>\n",
       "      <td>2022-07-17 02:02:18.461538304</td>\n",
       "      <td>1.511882e+02</td>\n",
       "      <td>1.107642e+02</td>\n",
       "      <td>2.533923e-05</td>\n",
       "      <td>7.863859e-05</td>\n",
       "    </tr>\n",
       "    <tr>\n",
       "      <th>min</th>\n",
       "      <td>5.760000e+01</td>\n",
       "      <td>2.170000e+01</td>\n",
       "      <td>2021-09-01 02:00:00</td>\n",
       "      <td>1.000000e+00</td>\n",
       "      <td>-2.749940e+01</td>\n",
       "      <td>-2.968357e+01</td>\n",
       "      <td>0.000000e+00</td>\n",
       "      <td>0.000000e+00</td>\n",
       "      <td>0.000000e+00</td>\n",
       "      <td>0.000000e+00</td>\n",
       "      <td>-1.757718e+01</td>\n",
       "      <td>-2.211612e+01</td>\n",
       "      <td>1.000000e+00</td>\n",
       "      <td>2021-09-01 03:00:00</td>\n",
       "      <td>-7.733333e-01</td>\n",
       "      <td>-3.258333e-01</td>\n",
       "      <td>-3.814697e-06</td>\n",
       "      <td>-1.529098e-05</td>\n",
       "    </tr>\n",
       "    <tr>\n",
       "      <th>25%</th>\n",
       "      <td>5.812500e+01</td>\n",
       "      <td>2.320000e+01</td>\n",
       "      <td>2022-02-07 01:00:00</td>\n",
       "      <td>1.275000e+01</td>\n",
       "      <td>2.606445e-01</td>\n",
       "      <td>-2.364355e+00</td>\n",
       "      <td>0.000000e+00</td>\n",
       "      <td>3.356934e-04</td>\n",
       "      <td>0.000000e+00</td>\n",
       "      <td>2.648926e-01</td>\n",
       "      <td>-1.466691e+00</td>\n",
       "      <td>-1.978108e+00</td>\n",
       "      <td>1.600000e+02</td>\n",
       "      <td>2022-02-07 19:45:00</td>\n",
       "      <td>0.000000e+00</td>\n",
       "      <td>0.000000e+00</td>\n",
       "      <td>0.000000e+00</td>\n",
       "      <td>0.000000e+00</td>\n",
       "    </tr>\n",
       "    <tr>\n",
       "      <th>50%</th>\n",
       "      <td>5.865000e+01</td>\n",
       "      <td>2.495000e+01</td>\n",
       "      <td>2022-07-16 02:00:00</td>\n",
       "      <td>2.450000e+01</td>\n",
       "      <td>4.872705e+00</td>\n",
       "      <td>1.835596e+00</td>\n",
       "      <td>8.866882e-02</td>\n",
       "      <td>2.305453e-01</td>\n",
       "      <td>1.011963e-01</td>\n",
       "      <td>9.772670e-01</td>\n",
       "      <td>1.468681e+00</td>\n",
       "      <td>9.433203e-01</td>\n",
       "      <td>3.190000e+02</td>\n",
       "      <td>2022-07-17 02:30:00</td>\n",
       "      <td>0.000000e+00</td>\n",
       "      <td>6.044444e-01</td>\n",
       "      <td>0.000000e+00</td>\n",
       "      <td>0.000000e+00</td>\n",
       "    </tr>\n",
       "    <tr>\n",
       "      <th>75%</th>\n",
       "      <td>5.917500e+01</td>\n",
       "      <td>2.670000e+01</td>\n",
       "      <td>2022-12-22 01:00:00</td>\n",
       "      <td>3.625000e+01</td>\n",
       "      <td>1.114639e+01</td>\n",
       "      <td>7.302026e+00</td>\n",
       "      <td>9.784851e-01</td>\n",
       "      <td>9.994587e-01</td>\n",
       "      <td>9.000854e-01</td>\n",
       "      <td>1.000000e+00</td>\n",
       "      <td>3.813533e+00</td>\n",
       "      <td>3.507629e+00</td>\n",
       "      <td>4.780000e+02</td>\n",
       "      <td>2022-12-23 07:15:00</td>\n",
       "      <td>2.128447e+02</td>\n",
       "      <td>1.441723e+02</td>\n",
       "      <td>0.000000e+00</td>\n",
       "      <td>2.765656e-05</td>\n",
       "    </tr>\n",
       "    <tr>\n",
       "      <th>max</th>\n",
       "      <td>5.970000e+01</td>\n",
       "      <td>2.820000e+01</td>\n",
       "      <td>2023-05-30 02:00:00</td>\n",
       "      <td>4.800000e+01</td>\n",
       "      <td>3.181069e+01</td>\n",
       "      <td>2.368057e+01</td>\n",
       "      <td>1.000008e+00</td>\n",
       "      <td>1.000008e+00</td>\n",
       "      <td>1.000008e+00</td>\n",
       "      <td>1.000008e+00</td>\n",
       "      <td>2.257320e+01</td>\n",
       "      <td>1.931437e+01</td>\n",
       "      <td>6.370000e+02</td>\n",
       "      <td>2023-06-01 02:00:00</td>\n",
       "      <td>9.544222e+02</td>\n",
       "      <td>8.487144e+02</td>\n",
       "      <td>4.832983e-03</td>\n",
       "      <td>1.651621e-02</td>\n",
       "    </tr>\n",
       "    <tr>\n",
       "      <th>std</th>\n",
       "      <td>6.873865e-01</td>\n",
       "      <td>2.015565e+00</td>\n",
       "      <td>NaN</td>\n",
       "      <td>1.385340e+01</td>\n",
       "      <td>7.844206e+00</td>\n",
       "      <td>7.121432e+00</td>\n",
       "      <td>4.440425e-01</td>\n",
       "      <td>4.386346e-01</td>\n",
       "      <td>4.201556e-01</td>\n",
       "      <td>4.009629e-01</td>\n",
       "      <td>3.995300e+00</td>\n",
       "      <td>4.223752e+00</td>\n",
       "      <td>1.838859e+02</td>\n",
       "      <td>NaN</td>\n",
       "      <td>2.565069e+02</td>\n",
       "      <td>1.874444e+02</td>\n",
       "      <td>1.222840e-04</td>\n",
       "      <td>2.780880e-04</td>\n",
       "    </tr>\n",
       "  </tbody>\n",
       "</table>\n",
       "</div>"
      ],
      "text/plain": [
       "           latitude     longitude                origin_datetime  \\\n",
       "count  3.424512e+06  3.424512e+06                        3424512   \n",
       "mean   5.865000e+01  2.495000e+01  2022-07-16 01:32:18.461540352   \n",
       "min    5.760000e+01  2.170000e+01            2021-09-01 02:00:00   \n",
       "25%    5.812500e+01  2.320000e+01            2022-02-07 01:00:00   \n",
       "50%    5.865000e+01  2.495000e+01            2022-07-16 02:00:00   \n",
       "75%    5.917500e+01  2.670000e+01            2022-12-22 01:00:00   \n",
       "max    5.970000e+01  2.820000e+01            2023-05-30 02:00:00   \n",
       "std    6.873865e-01  2.015565e+00                            NaN   \n",
       "\n",
       "        hours_ahead   temperature      dewpoint  cloudcover_high  \\\n",
       "count  3.424512e+06  3.424512e+06  3.424512e+06     3.424512e+06   \n",
       "mean   2.450000e+01  5.743913e+00  2.411946e+00     3.946654e-01   \n",
       "min    1.000000e+00 -2.749940e+01 -2.968357e+01     0.000000e+00   \n",
       "25%    1.275000e+01  2.606445e-01 -2.364355e+00     0.000000e+00   \n",
       "50%    2.450000e+01  4.872705e+00  1.835596e+00     8.866882e-02   \n",
       "75%    3.625000e+01  1.114639e+01  7.302026e+00     9.784851e-01   \n",
       "max    4.800000e+01  3.181069e+01  2.368057e+01     1.000008e+00   \n",
       "std    1.385340e+01  7.844206e+00  7.121432e+00     4.440425e-01   \n",
       "\n",
       "       cloudcover_low  cloudcover_mid  cloudcover_total  \\\n",
       "count    3.424512e+06    3.424512e+06      3.424512e+06   \n",
       "mean     4.346453e-01    3.590693e-01      6.819927e-01   \n",
       "min      0.000000e+00    0.000000e+00      0.000000e+00   \n",
       "25%      3.356934e-04    0.000000e+00      2.648926e-01   \n",
       "50%      2.305453e-01    1.011963e-01      9.772670e-01   \n",
       "75%      9.994587e-01    9.000854e-01      1.000000e+00   \n",
       "max      1.000008e+00    1.000008e+00      1.000008e+00   \n",
       "std      4.386346e-01    4.201556e-01      4.009629e-01   \n",
       "\n",
       "       10_metre_u_wind_component  10_metre_v_wind_component  data_block_id  \\\n",
       "count               3.424512e+06               3.424512e+06   3.424512e+06   \n",
       "mean                1.255446e+00               7.250110e-01   3.190000e+02   \n",
       "min                -1.757718e+01              -2.211612e+01   1.000000e+00   \n",
       "25%                -1.466691e+00              -1.978108e+00   1.600000e+02   \n",
       "50%                 1.468681e+00               9.433203e-01   3.190000e+02   \n",
       "75%                 3.813533e+00               3.507629e+00   4.780000e+02   \n",
       "max                 2.257320e+01               1.931437e+01   6.370000e+02   \n",
       "std                 3.995300e+00               4.223752e+00   1.838859e+02   \n",
       "\n",
       "                   forecast_datetime  direct_solar_radiation  \\\n",
       "count                        3424512            3.424512e+06   \n",
       "mean   2022-07-17 02:02:18.461538304            1.511882e+02   \n",
       "min              2021-09-01 03:00:00           -7.733333e-01   \n",
       "25%              2022-02-07 19:45:00            0.000000e+00   \n",
       "50%              2022-07-17 02:30:00            0.000000e+00   \n",
       "75%              2022-12-23 07:15:00            2.128447e+02   \n",
       "max              2023-06-01 02:00:00            9.544222e+02   \n",
       "std                              NaN            2.565069e+02   \n",
       "\n",
       "       surface_solar_radiation_downwards      snowfall  total_precipitation  \n",
       "count                       3.424510e+06  3.424512e+06         3.424512e+06  \n",
       "mean                        1.107642e+02  2.533923e-05         7.863859e-05  \n",
       "min                        -3.258333e-01 -3.814697e-06        -1.529098e-05  \n",
       "25%                         0.000000e+00  0.000000e+00         0.000000e+00  \n",
       "50%                         6.044444e-01  0.000000e+00         0.000000e+00  \n",
       "75%                         1.441723e+02  0.000000e+00         2.765656e-05  \n",
       "max                         8.487144e+02  4.832983e-03         1.651621e-02  \n",
       "std                         1.874444e+02  1.222840e-04         2.780880e-04  "
      ]
     },
     "execution_count": 15,
     "metadata": {},
     "output_type": "execute_result"
    }
   ],
   "source": [
    "forecast_weather_df.describe()"
   ]
  },
  {
   "cell_type": "code",
   "execution_count": 16,
   "id": "92890b94",
   "metadata": {
    "execution": {
     "iopub.execute_input": "2024-01-10T08:30:57.643194Z",
     "iopub.status.busy": "2024-01-10T08:30:57.642166Z",
     "iopub.status.idle": "2024-01-10T08:30:57.647524Z",
     "shell.execute_reply": "2024-01-10T08:30:57.646752Z"
    },
    "papermill": {
     "duration": 0.027641,
     "end_time": "2024-01-10T08:30:57.649702",
     "exception": false,
     "start_time": "2024-01-10T08:30:57.622061",
     "status": "completed"
    },
    "tags": []
   },
   "outputs": [],
   "source": [
    "dfs = {\"train\": train_df, \"gasprice\": gasprices_df, \"elecprice\": electricity_prices_df, \"wst\": wst_df, \"historical_weather\": historical_weather_df, \"forecast_weather\": forecast_weather_df }"
   ]
  },
  {
   "cell_type": "markdown",
   "id": "df16556b",
   "metadata": {
    "papermill": {
     "duration": 0.017674,
     "end_time": "2024-01-10T08:30:57.685077",
     "exception": false,
     "start_time": "2024-01-10T08:30:57.667403",
     "status": "completed"
    },
    "tags": []
   },
   "source": [
    "### Missing Values"
   ]
  },
  {
   "cell_type": "code",
   "execution_count": 17,
   "id": "974fec5e",
   "metadata": {
    "execution": {
     "iopub.execute_input": "2024-01-10T08:30:57.722967Z",
     "iopub.status.busy": "2024-01-10T08:30:57.722512Z",
     "iopub.status.idle": "2024-01-10T08:30:57.728369Z",
     "shell.execute_reply": "2024-01-10T08:30:57.727069Z"
    },
    "papermill": {
     "duration": 0.027454,
     "end_time": "2024-01-10T08:30:57.730820",
     "exception": false,
     "start_time": "2024-01-10T08:30:57.703366",
     "status": "completed"
    },
    "tags": []
   },
   "outputs": [],
   "source": [
    "# function for missing values\n",
    "\n",
    "def display_missing_dfs():\n",
    "    for key, df in dfs.items():\n",
    "        print(key, \": \", df.isnull().any().any())"
   ]
  },
  {
   "cell_type": "code",
   "execution_count": 18,
   "id": "9859852d",
   "metadata": {
    "execution": {
     "iopub.execute_input": "2024-01-10T08:30:57.770735Z",
     "iopub.status.busy": "2024-01-10T08:30:57.770187Z",
     "iopub.status.idle": "2024-01-10T08:30:57.907103Z",
     "shell.execute_reply": "2024-01-10T08:30:57.905111Z"
    },
    "papermill": {
     "duration": 0.162011,
     "end_time": "2024-01-10T08:30:57.910481",
     "exception": false,
     "start_time": "2024-01-10T08:30:57.748470",
     "status": "completed"
    },
    "tags": []
   },
   "outputs": [
    {
     "name": "stdout",
     "output_type": "stream",
     "text": [
      "train :  True\n",
      "gasprice :  False\n",
      "elecprice :  False\n",
      "wst :  True\n",
      "historical_weather :  False\n",
      "forecast_weather :  True\n"
     ]
    }
   ],
   "source": [
    "display_missing_dfs()"
   ]
  },
  {
   "cell_type": "code",
   "execution_count": 19,
   "id": "107e756d",
   "metadata": {
    "execution": {
     "iopub.execute_input": "2024-01-10T08:30:57.949806Z",
     "iopub.status.busy": "2024-01-10T08:30:57.949250Z",
     "iopub.status.idle": "2024-01-10T08:30:58.332371Z",
     "shell.execute_reply": "2024-01-10T08:30:58.330613Z"
    },
    "papermill": {
     "duration": 0.40633,
     "end_time": "2024-01-10T08:30:58.335388",
     "exception": false,
     "start_time": "2024-01-10T08:30:57.929058",
     "status": "completed"
    },
    "tags": []
   },
   "outputs": [
    {
     "data": {
      "text/plain": [
       "<Axes: >"
      ]
     },
     "execution_count": 19,
     "metadata": {},
     "output_type": "execute_result"
    },
    {
     "data": {
      "image/png": "[encoded data removed]",
      "text/plain": [
       "<Figure size 640x480 with 1 Axes>"
      ]
     },
     "metadata": {},
     "output_type": "display_data"
    }
   ],
   "source": [
    "train_df.isna().sum().plot(kind=\"bar\")"
   ]
  },
  {
   "cell_type": "code",
   "execution_count": 20,
   "id": "b59496c8",
   "metadata": {
    "execution": {
     "iopub.execute_input": "2024-01-10T08:30:58.375244Z",
     "iopub.status.busy": "2024-01-10T08:30:58.374791Z",
     "iopub.status.idle": "2024-01-10T08:30:58.498874Z",
     "shell.execute_reply": "2024-01-10T08:30:58.497432Z"
    },
    "papermill": {
     "duration": 0.147744,
     "end_time": "2024-01-10T08:30:58.502110",
     "exception": false,
     "start_time": "2024-01-10T08:30:58.354366",
     "status": "completed"
    },
    "tags": []
   },
   "outputs": [],
   "source": [
    "train_df.dropna(inplace=True)"
   ]
  },
  {
   "cell_type": "code",
   "execution_count": 21,
   "id": "3cafc84e",
   "metadata": {
    "execution": {
     "iopub.execute_input": "2024-01-10T08:30:58.542893Z",
     "iopub.status.busy": "2024-01-10T08:30:58.542401Z",
     "iopub.status.idle": "2024-01-10T08:30:58.809783Z",
     "shell.execute_reply": "2024-01-10T08:30:58.808317Z"
    },
    "papermill": {
     "duration": 0.291183,
     "end_time": "2024-01-10T08:30:58.812525",
     "exception": false,
     "start_time": "2024-01-10T08:30:58.521342",
     "status": "completed"
    },
    "tags": []
   },
   "outputs": [
    {
     "data": {
      "text/plain": [
       "<Axes: >"
      ]
     },
     "execution_count": 21,
     "metadata": {},
     "output_type": "execute_result"
    },
    {
     "data": {
      "image/png": "[encoded data removed]",
      "text/plain": [
       "<Figure size 640x480 with 1 Axes>"
      ]
     },
     "metadata": {},
     "output_type": "display_data"
    }
   ],
   "source": [
    "wst_df.isna().sum().plot(kind=\"bar\")"
   ]
  },
  {
   "cell_type": "code",
   "execution_count": 22,
   "id": "c79d34ed",
   "metadata": {
    "execution": {
     "iopub.execute_input": "2024-01-10T08:30:58.856255Z",
     "iopub.status.busy": "2024-01-10T08:30:58.855789Z",
     "iopub.status.idle": "2024-01-10T08:30:58.864202Z",
     "shell.execute_reply": "2024-01-10T08:30:58.862815Z"
    },
    "papermill": {
     "duration": 0.033647,
     "end_time": "2024-01-10T08:30:58.866962",
     "exception": false,
     "start_time": "2024-01-10T08:30:58.833315",
     "status": "completed"
    },
    "tags": []
   },
   "outputs": [
    {
     "data": {
      "text/plain": [
       "(112, 4)"
      ]
     },
     "execution_count": 22,
     "metadata": {},
     "output_type": "execute_result"
    }
   ],
   "source": [
    "wst_df.shape"
   ]
  },
  {
   "cell_type": "markdown",
   "id": "81e0168c",
   "metadata": {
    "papermill": {
     "duration": 0.019217,
     "end_time": "2024-01-10T08:30:58.905922",
     "exception": false,
     "start_time": "2024-01-10T08:30:58.886705",
     "status": "completed"
    },
    "tags": []
   },
   "source": [
    "- Majority of 2 columns are null"
   ]
  },
  {
   "cell_type": "code",
   "execution_count": 23,
   "id": "26a8954f",
   "metadata": {
    "execution": {
     "iopub.execute_input": "2024-01-10T08:30:58.947072Z",
     "iopub.status.busy": "2024-01-10T08:30:58.946592Z",
     "iopub.status.idle": "2024-01-10T08:30:59.499794Z",
     "shell.execute_reply": "2024-01-10T08:30:59.498918Z"
    },
    "papermill": {
     "duration": 0.576876,
     "end_time": "2024-01-10T08:30:59.502416",
     "exception": false,
     "start_time": "2024-01-10T08:30:58.925540",
     "status": "completed"
    },
    "tags": []
   },
   "outputs": [
    {
     "data": {
      "text/plain": [
       "<Axes: >"
      ]
     },
     "execution_count": 23,
     "metadata": {},
     "output_type": "execute_result"
    },
    {
     "data": {
      "image/png": "[encoded data removed]",
      "text/plain": [
       "<Figure size 640x480 with 1 Axes>"
      ]
     },
     "metadata": {},
     "output_type": "display_data"
    }
   ],
   "source": [
    "forecast_weather_df.isna().sum().plot(kind=\"bar\")"
   ]
  },
  {
   "cell_type": "markdown",
   "id": "90a82fbc",
   "metadata": {
    "papermill": {
     "duration": 0.019714,
     "end_time": "2024-01-10T08:30:59.543039",
     "exception": false,
     "start_time": "2024-01-10T08:30:59.523325",
     "status": "completed"
    },
    "tags": []
   },
   "source": [
    "### Duplicated Values"
   ]
  },
  {
   "cell_type": "code",
   "execution_count": 24,
   "id": "e1baf540",
   "metadata": {
    "execution": {
     "iopub.execute_input": "2024-01-10T08:30:59.589051Z",
     "iopub.status.busy": "2024-01-10T08:30:59.587890Z",
     "iopub.status.idle": "2024-01-10T08:30:59.593432Z",
     "shell.execute_reply": "2024-01-10T08:30:59.592616Z"
    },
    "papermill": {
     "duration": 0.03192,
     "end_time": "2024-01-10T08:30:59.595872",
     "exception": false,
     "start_time": "2024-01-10T08:30:59.563952",
     "status": "completed"
    },
    "tags": []
   },
   "outputs": [],
   "source": [
    "# function to display duplicated values\n",
    "\n",
    "def display_duplicated_values():\n",
    "    for key, df in dfs.items():\n",
    "        print(key, \": \", df.duplicated().any())"
   ]
  },
  {
   "cell_type": "code",
   "execution_count": 25,
   "id": "c9e7974b",
   "metadata": {
    "execution": {
     "iopub.execute_input": "2024-01-10T08:30:59.640724Z",
     "iopub.status.busy": "2024-01-10T08:30:59.639385Z",
     "iopub.status.idle": "2024-01-10T08:31:14.378826Z",
     "shell.execute_reply": "2024-01-10T08:31:14.377108Z"
    },
    "papermill": {
     "duration": 14.764447,
     "end_time": "2024-01-10T08:31:14.381980",
     "exception": false,
     "start_time": "2024-01-10T08:30:59.617533",
     "status": "completed"
    },
    "tags": []
   },
   "outputs": [
    {
     "name": "stdout",
     "output_type": "stream",
     "text": [
      "train :  False\n",
      "gasprice :  False\n",
      "elecprice :  False\n",
      "wst :  False\n",
      "historical_weather :  False\n",
      "forecast_weather :  False\n"
     ]
    }
   ],
   "source": [
    "display_duplicated_values()"
   ]
  },
  {
   "cell_type": "code",
   "execution_count": 26,
   "id": "d7cf64f9",
   "metadata": {
    "execution": {
     "iopub.execute_input": "2024-01-10T08:31:14.429251Z",
     "iopub.status.busy": "2024-01-10T08:31:14.428793Z",
     "iopub.status.idle": "2024-01-10T08:31:14.450370Z",
     "shell.execute_reply": "2024-01-10T08:31:14.449113Z"
    },
    "papermill": {
     "duration": 0.049169,
     "end_time": "2024-01-10T08:31:14.453192",
     "exception": false,
     "start_time": "2024-01-10T08:31:14.404023",
     "status": "completed"
    },
    "tags": []
   },
   "outputs": [
    {
     "name": "stdout",
     "output_type": "stream",
     "text": [
      "<class 'pandas.core.frame.DataFrame'>\n",
      "Index: 2017824 entries, 0 to 2018351\n",
      "Data columns (total 9 columns):\n",
      " #   Column              Dtype         \n",
      "---  ------              -----         \n",
      " 0   county              int64         \n",
      " 1   is_business         int64         \n",
      " 2   product_type        int64         \n",
      " 3   target              float64       \n",
      " 4   is_consumption      int64         \n",
      " 5   datetime            datetime64[ns]\n",
      " 6   data_block_id       int64         \n",
      " 7   row_id              int64         \n",
      " 8   prediction_unit_id  int64         \n",
      "dtypes: datetime64[ns](1), float64(1), int64(7)\n",
      "memory usage: 153.9 MB\n"
     ]
    }
   ],
   "source": [
    "train_df.info()"
   ]
  },
  {
   "cell_type": "code",
   "execution_count": 27,
   "id": "7dba1bb3",
   "metadata": {
    "execution": {
     "iopub.execute_input": "2024-01-10T08:31:14.501644Z",
     "iopub.status.busy": "2024-01-10T08:31:14.500739Z",
     "iopub.status.idle": "2024-01-10T08:31:14.513700Z",
     "shell.execute_reply": "2024-01-10T08:31:14.512522Z"
    },
    "papermill": {
     "duration": 0.04315,
     "end_time": "2024-01-10T08:31:14.519090",
     "exception": false,
     "start_time": "2024-01-10T08:31:14.475940",
     "status": "completed"
    },
    "tags": []
   },
   "outputs": [
    {
     "name": "stdout",
     "output_type": "stream",
     "text": [
      "<class 'pandas.core.frame.DataFrame'>\n",
      "RangeIndex: 637 entries, 0 to 636\n",
      "Data columns (total 5 columns):\n",
      " #   Column                 Non-Null Count  Dtype         \n",
      "---  ------                 --------------  -----         \n",
      " 0   forecast_date          637 non-null    datetime64[ns]\n",
      " 1   lowest_price_per_mwh   637 non-null    float64       \n",
      " 2   highest_price_per_mwh  637 non-null    float64       \n",
      " 3   origin_date            637 non-null    object        \n",
      " 4   data_block_id          637 non-null    int64         \n",
      "dtypes: datetime64[ns](1), float64(2), int64(1), object(1)\n",
      "memory usage: 25.0+ KB\n"
     ]
    }
   ],
   "source": [
    "gasprices_df.info()"
   ]
  },
  {
   "cell_type": "code",
   "execution_count": 28,
   "id": "56bc7d29",
   "metadata": {
    "execution": {
     "iopub.execute_input": "2024-01-10T08:31:14.566318Z",
     "iopub.status.busy": "2024-01-10T08:31:14.565875Z",
     "iopub.status.idle": "2024-01-10T08:31:14.583329Z",
     "shell.execute_reply": "2024-01-10T08:31:14.581453Z"
    },
    "papermill": {
     "duration": 0.044974,
     "end_time": "2024-01-10T08:31:14.586617",
     "exception": false,
     "start_time": "2024-01-10T08:31:14.541643",
     "status": "completed"
    },
    "tags": []
   },
   "outputs": [
    {
     "name": "stdout",
     "output_type": "stream",
     "text": [
      "<class 'pandas.core.frame.DataFrame'>\n",
      "RangeIndex: 15286 entries, 0 to 15285\n",
      "Data columns (total 4 columns):\n",
      " #   Column         Non-Null Count  Dtype         \n",
      "---  ------         --------------  -----         \n",
      " 0   forecast_date  15286 non-null  datetime64[ns]\n",
      " 1   euros_per_mwh  15286 non-null  float64       \n",
      " 2   origin_date    15286 non-null  datetime64[ns]\n",
      " 3   data_block_id  15286 non-null  int64         \n",
      "dtypes: datetime64[ns](2), float64(1), int64(1)\n",
      "memory usage: 477.8 KB\n"
     ]
    }
   ],
   "source": [
    "electricity_prices_df.info()"
   ]
  },
  {
   "cell_type": "code",
   "execution_count": 29,
   "id": "45dd9085",
   "metadata": {
    "execution": {
     "iopub.execute_input": "2024-01-10T08:31:14.637051Z",
     "iopub.status.busy": "2024-01-10T08:31:14.636560Z",
     "iopub.status.idle": "2024-01-10T08:31:14.649391Z",
     "shell.execute_reply": "2024-01-10T08:31:14.648324Z"
    },
    "papermill": {
     "duration": 0.043493,
     "end_time": "2024-01-10T08:31:14.654700",
     "exception": false,
     "start_time": "2024-01-10T08:31:14.611207",
     "status": "completed"
    },
    "tags": []
   },
   "outputs": [
    {
     "name": "stdout",
     "output_type": "stream",
     "text": [
      "<class 'pandas.core.frame.DataFrame'>\n",
      "RangeIndex: 112 entries, 0 to 111\n",
      "Data columns (total 4 columns):\n",
      " #   Column       Non-Null Count  Dtype  \n",
      "---  ------       --------------  -----  \n",
      " 0   county_name  49 non-null     object \n",
      " 1   longitude    112 non-null    float64\n",
      " 2   latitude     112 non-null    float64\n",
      " 3   county       49 non-null     float64\n",
      "dtypes: float64(3), object(1)\n",
      "memory usage: 3.6+ KB\n"
     ]
    }
   ],
   "source": [
    "wst_df.info()"
   ]
  },
  {
   "cell_type": "code",
   "execution_count": 30,
   "id": "933b188e",
   "metadata": {
    "execution": {
     "iopub.execute_input": "2024-01-10T08:31:14.703120Z",
     "iopub.status.busy": "2024-01-10T08:31:14.702609Z",
     "iopub.status.idle": "2024-01-10T08:31:14.717084Z",
     "shell.execute_reply": "2024-01-10T08:31:14.715463Z"
    },
    "papermill": {
     "duration": 0.042331,
     "end_time": "2024-01-10T08:31:14.720058",
     "exception": false,
     "start_time": "2024-01-10T08:31:14.677727",
     "status": "completed"
    },
    "tags": []
   },
   "outputs": [
    {
     "name": "stdout",
     "output_type": "stream",
     "text": [
      "<class 'pandas.core.frame.DataFrame'>\n",
      "RangeIndex: 1710802 entries, 0 to 1710801\n",
      "Data columns (total 18 columns):\n",
      " #   Column                  Dtype         \n",
      "---  ------                  -----         \n",
      " 0   datetime                datetime64[ns]\n",
      " 1   temperature             float64       \n",
      " 2   dewpoint                float64       \n",
      " 3   rain                    float64       \n",
      " 4   snowfall                float64       \n",
      " 5   surface_pressure        float64       \n",
      " 6   cloudcover_total        int64         \n",
      " 7   cloudcover_low          int64         \n",
      " 8   cloudcover_mid          int64         \n",
      " 9   cloudcover_high         int64         \n",
      " 10  windspeed_10m           float64       \n",
      " 11  winddirection_10m       int64         \n",
      " 12  shortwave_radiation     float64       \n",
      " 13  direct_solar_radiation  float64       \n",
      " 14  diffuse_radiation       float64       \n",
      " 15  latitude                float64       \n",
      " 16  longitude               float64       \n",
      " 17  data_block_id           float64       \n",
      "dtypes: datetime64[ns](1), float64(12), int64(5)\n",
      "memory usage: 234.9 MB\n"
     ]
    }
   ],
   "source": [
    "historical_weather_df.info()"
   ]
  },
  {
   "cell_type": "code",
   "execution_count": 31,
   "id": "8b5e45cf",
   "metadata": {
    "execution": {
     "iopub.execute_input": "2024-01-10T08:31:14.769245Z",
     "iopub.status.busy": "2024-01-10T08:31:14.768703Z",
     "iopub.status.idle": "2024-01-10T08:31:14.783006Z",
     "shell.execute_reply": "2024-01-10T08:31:14.781506Z"
    },
    "papermill": {
     "duration": 0.044039,
     "end_time": "2024-01-10T08:31:14.786829",
     "exception": false,
     "start_time": "2024-01-10T08:31:14.742790",
     "status": "completed"
    },
    "tags": []
   },
   "outputs": [
    {
     "name": "stdout",
     "output_type": "stream",
     "text": [
      "<class 'pandas.core.frame.DataFrame'>\n",
      "RangeIndex: 3424512 entries, 0 to 3424511\n",
      "Data columns (total 18 columns):\n",
      " #   Column                             Dtype         \n",
      "---  ------                             -----         \n",
      " 0   latitude                           float64       \n",
      " 1   longitude                          float64       \n",
      " 2   origin_datetime                    datetime64[ns]\n",
      " 3   hours_ahead                        int64         \n",
      " 4   temperature                        float64       \n",
      " 5   dewpoint                           float64       \n",
      " 6   cloudcover_high                    float64       \n",
      " 7   cloudcover_low                     float64       \n",
      " 8   cloudcover_mid                     float64       \n",
      " 9   cloudcover_total                   float64       \n",
      " 10  10_metre_u_wind_component          float64       \n",
      " 11  10_metre_v_wind_component          float64       \n",
      " 12  data_block_id                      int64         \n",
      " 13  forecast_datetime                  datetime64[ns]\n",
      " 14  direct_solar_radiation             float64       \n",
      " 15  surface_solar_radiation_downwards  float64       \n",
      " 16  snowfall                           float64       \n",
      " 17  total_precipitation                float64       \n",
      "dtypes: datetime64[ns](2), float64(14), int64(2)\n",
      "memory usage: 470.3 MB\n"
     ]
    }
   ],
   "source": [
    "forecast_weather_df.info()"
   ]
  },
  {
   "cell_type": "markdown",
   "id": "c3ab33cb",
   "metadata": {
    "papermill": {
     "duration": 0.020952,
     "end_time": "2024-01-10T08:31:14.832345",
     "exception": false,
     "start_time": "2024-01-10T08:31:14.811393",
     "status": "completed"
    },
    "tags": []
   },
   "source": [
    "### Train/Val Split"
   ]
  },
  {
   "cell_type": "code",
   "execution_count": 32,
   "id": "6a7bae4a",
   "metadata": {
    "execution": {
     "iopub.execute_input": "2024-01-10T08:31:14.883012Z",
     "iopub.status.busy": "2024-01-10T08:31:14.882469Z",
     "iopub.status.idle": "2024-01-10T08:31:15.069330Z",
     "shell.execute_reply": "2024-01-10T08:31:15.067739Z"
    },
    "papermill": {
     "duration": 0.216199,
     "end_time": "2024-01-10T08:31:15.072764",
     "exception": false,
     "start_time": "2024-01-10T08:31:14.856565",
     "status": "completed"
    },
    "tags": []
   },
   "outputs": [],
   "source": [
    "train_df.sort_values(by=\"datetime\", inplace=True)\n",
    "\n",
    "val_size= 0.1\n",
    "\n",
    "split_index = int(len(train_df) * (1 - val_size))\n",
    "\n",
    "train_data = train_df[:split_index]\n",
    "val_data = train_df[split_index:]"
   ]
  },
  {
   "cell_type": "code",
   "execution_count": 33,
   "id": "d16e7b9f",
   "metadata": {
    "execution": {
     "iopub.execute_input": "2024-01-10T08:31:15.122104Z",
     "iopub.status.busy": "2024-01-10T08:31:15.121221Z",
     "iopub.status.idle": "2024-01-10T08:31:15.166323Z",
     "shell.execute_reply": "2024-01-10T08:31:15.164989Z"
    },
    "papermill": {
     "duration": 0.074615,
     "end_time": "2024-01-10T08:31:15.169509",
     "exception": false,
     "start_time": "2024-01-10T08:31:15.094894",
     "status": "completed"
    },
    "tags": []
   },
   "outputs": [],
   "source": [
    "X_train = train_data.drop(columns=[\"target\"])\n",
    "X_val = val_data.drop(columns=[\"target\"])\n",
    "y_train = train_data[\"target\"]\n",
    "y_val = val_data[\"target\"]"
   ]
  },
  {
   "cell_type": "markdown",
   "id": "d73c4cfc",
   "metadata": {
    "papermill": {
     "duration": 0.023414,
     "end_time": "2024-01-10T08:31:15.214857",
     "exception": false,
     "start_time": "2024-01-10T08:31:15.191443",
     "status": "completed"
    },
    "tags": []
   },
   "source": [
    "## EDA"
   ]
  },
  {
   "cell_type": "code",
   "execution_count": null,
   "id": "e06149b1",
   "metadata": {
    "papermill": {
     "duration": 0.024018,
     "end_time": "2024-01-10T08:31:15.262848",
     "exception": false,
     "start_time": "2024-01-10T08:31:15.238830",
     "status": "completed"
    },
    "tags": []
   },
   "outputs": [],
   "source": []
  }
 ],
 "metadata": {
  "kaggle": {
   "accelerator": "none",
   "dataSources": [
    {
     "databundleVersionId": 7292407,
     "sourceId": 57236,
     "sourceType": "competition"
    }
   ],
   "dockerImageVersionId": 30626,
   "isGpuEnabled": false,
   "isInternetEnabled": true,
   "language": "python",
   "sourceType": "notebook"
  },
  "kernelspec": {
   "display_name": "Python 3",
   "language": "python",
   "name": "python3"
  },
  "language_info": {
   "codemirror_mode": {
    "name": "ipython",
    "version": 3
   },
   "file_extension": ".py",
   "mimetype": "text/x-python",
   "name": "python",
   "nbconvert_exporter": "python",
   "pygments_lexer": "ipython3",
   "version": "3.10.12"
  },
  "papermill": {
   "default_parameters": {},
   "duration": 62.536298,
   "end_time": "2024-01-10T08:31:16.109458",
   "environment_variables": {},
   "exception": null,
   "input_path": "__notebook__.ipynb",
   "output_path": "__notebook__.ipynb",
   "parameters": {},
   "start_time": "2024-01-10T08:30:13.573160",
   "version": "2.4.0"
  }
 },
 "nbformat": 4,
 "nbformat_minor": 5
}
